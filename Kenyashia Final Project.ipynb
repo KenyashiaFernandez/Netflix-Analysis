{
 "cells": [
  {
   "cell_type": "markdown",
   "id": "6f0aa1aa-117a-4d7c-92d7-0b65503547e7",
   "metadata": {},
   "source": [
    "## Import packages"
   ]
  },
  {
   "cell_type": "code",
   "execution_count": 1,
   "id": "deb6b7dc-0447-4507-a78b-9c996cfd261c",
   "metadata": {},
   "outputs": [
    {
     "name": "stdout",
     "output_type": "stream",
     "text": [
      "Requirement already satisfied: pip in /opt/homebrew/Cellar/jupyterlab/3.2.9/libexec/lib/python3.9/site-packages (22.2.2)\n",
      "Note: you may need to restart the kernel to use updated packages.\n"
     ]
    }
   ],
   "source": [
    "pip install --upgrade pip"
   ]
  },
  {
   "cell_type": "code",
   "execution_count": 2,
   "id": "06b4634b-12b9-4ecb-83ec-1b3e8ef39112",
   "metadata": {},
   "outputs": [
    {
     "name": "stdout",
     "output_type": "stream",
     "text": [
      "Requirement already satisfied: plotly in /opt/homebrew/Cellar/jupyterlab/3.2.9/libexec/lib/python3.9/site-packages (5.10.0)\n",
      "Requirement already satisfied: tenacity>=6.2.0 in /opt/homebrew/Cellar/jupyterlab/3.2.9/libexec/lib/python3.9/site-packages (from plotly) (8.0.1)\n",
      "Note: you may need to restart the kernel to use updated packages.\n"
     ]
    }
   ],
   "source": [
    "pip install plotly"
   ]
  },
  {
   "cell_type": "code",
   "execution_count": 3,
   "id": "a47805f5-9188-4274-81d5-36c3cc1283d6",
   "metadata": {},
   "outputs": [
    {
     "name": "stdout",
     "output_type": "stream",
     "text": [
      "Requirement already satisfied: seaborn in /opt/homebrew/Cellar/jupyterlab/3.2.9/libexec/lib/python3.9/site-packages (0.12.0)\n",
      "Requirement already satisfied: pandas>=0.25 in /opt/homebrew/Cellar/jupyterlab/3.2.9/libexec/lib/python3.9/site-packages (from seaborn) (1.4.2)\n",
      "Requirement already satisfied: numpy>=1.17 in /opt/homebrew/Cellar/jupyterlab/3.2.9/libexec/lib/python3.9/site-packages (from seaborn) (1.22.4)\n",
      "Requirement already satisfied: matplotlib>=3.1 in /opt/homebrew/Cellar/jupyterlab/3.2.9/libexec/lib/python3.9/site-packages (from seaborn) (3.5.2)\n",
      "Requirement already satisfied: python-dateutil>=2.7 in /opt/homebrew/Cellar/jupyterlab/3.2.9/libexec/lib/python3.9/site-packages (from matplotlib>=3.1->seaborn) (2.8.2)\n",
      "Requirement already satisfied: packaging>=20.0 in /opt/homebrew/Cellar/jupyterlab/3.2.9/libexec/lib/python3.9/site-packages (from matplotlib>=3.1->seaborn) (21.3)\n",
      "Requirement already satisfied: kiwisolver>=1.0.1 in /opt/homebrew/Cellar/jupyterlab/3.2.9/libexec/lib/python3.9/site-packages (from matplotlib>=3.1->seaborn) (1.4.2)\n",
      "Requirement already satisfied: pillow>=6.2.0 in /opt/homebrew/Cellar/jupyterlab/3.2.9/libexec/lib/python3.9/site-packages (from matplotlib>=3.1->seaborn) (9.1.1)\n",
      "Requirement already satisfied: pyparsing>=2.2.1 in /opt/homebrew/Cellar/jupyterlab/3.2.9/libexec/lib/python3.9/site-packages (from matplotlib>=3.1->seaborn) (3.0.7)\n",
      "Requirement already satisfied: fonttools>=4.22.0 in /opt/homebrew/Cellar/jupyterlab/3.2.9/libexec/lib/python3.9/site-packages (from matplotlib>=3.1->seaborn) (4.33.3)\n",
      "Requirement already satisfied: cycler>=0.10 in /opt/homebrew/Cellar/jupyterlab/3.2.9/libexec/lib/python3.9/site-packages (from matplotlib>=3.1->seaborn) (0.11.0)\n",
      "Requirement already satisfied: pytz>=2020.1 in /opt/homebrew/Cellar/jupyterlab/3.2.9/libexec/lib/python3.9/site-packages (from pandas>=0.25->seaborn) (2021.3)\n",
      "Requirement already satisfied: six>=1.5 in /opt/homebrew/Cellar/six/1.16.0_2/lib/python3.9/site-packages (from python-dateutil>=2.7->matplotlib>=3.1->seaborn) (1.16.0)\n",
      "Note: you may need to restart the kernel to use updated packages.\n"
     ]
    }
   ],
   "source": [
    "pip install -U seaborn"
   ]
  },
  {
   "cell_type": "code",
   "execution_count": 4,
   "id": "c22dc30f-5f42-4637-87f3-8a812c8327db",
   "metadata": {},
   "outputs": [],
   "source": [
    "import pandas as pd\n",
    "import numpy as np\n",
    "import plotly\n",
    "from matplotlib import pyplot as plt\n",
    "import pandas.plotting\n",
    "import scipy\n",
    "from scipy import stats\n",
    "import seaborn as sns"
   ]
  },
  {
   "cell_type": "markdown",
   "id": "da01017e-bc8d-46c1-979f-43647d843f6b",
   "metadata": {},
   "source": [
    "## Load Data"
   ]
  },
  {
   "cell_type": "code",
   "execution_count": 5,
   "id": "e046fb8c-ed91-478b-8933-5ac5e6e2336e",
   "metadata": {},
   "outputs": [
    {
     "data": {
      "text/html": [
       "<div>\n",
       "<style scoped>\n",
       "    .dataframe tbody tr th:only-of-type {\n",
       "        vertical-align: middle;\n",
       "    }\n",
       "\n",
       "    .dataframe tbody tr th {\n",
       "        vertical-align: top;\n",
       "    }\n",
       "\n",
       "    .dataframe thead th {\n",
       "        text-align: right;\n",
       "    }\n",
       "</style>\n",
       "<table border=\"1\" class=\"dataframe\">\n",
       "  <thead>\n",
       "    <tr style=\"text-align: right;\">\n",
       "      <th></th>\n",
       "      <th>show_id</th>\n",
       "      <th>title</th>\n",
       "      <th>director</th>\n",
       "      <th>cast</th>\n",
       "      <th>country</th>\n",
       "      <th>date_added</th>\n",
       "      <th>release_year</th>\n",
       "      <th>rating</th>\n",
       "      <th>duration</th>\n",
       "      <th>listed_in</th>\n",
       "      <th>description</th>\n",
       "      <th>type</th>\n",
       "    </tr>\n",
       "  </thead>\n",
       "  <tbody>\n",
       "    <tr>\n",
       "      <th>0</th>\n",
       "      <td>81193313</td>\n",
       "      <td>Chocolate</td>\n",
       "      <td>NaN</td>\n",
       "      <td>Ha Ji-won, Yoon Kye-sang, Jang Seung-jo, Kang ...</td>\n",
       "      <td>South Korea</td>\n",
       "      <td>November 30, 2019</td>\n",
       "      <td>2019</td>\n",
       "      <td>TV-14</td>\n",
       "      <td>1 Season</td>\n",
       "      <td>International TV Shows, Korean TV Shows, Roman...</td>\n",
       "      <td>Brought together by meaningful meals in the pa...</td>\n",
       "      <td>TV Show</td>\n",
       "    </tr>\n",
       "    <tr>\n",
       "      <th>1</th>\n",
       "      <td>81197050</td>\n",
       "      <td>Guatemala: Heart of the Mayan World</td>\n",
       "      <td>Luis Ara, Ignacio Jaunsolo</td>\n",
       "      <td>Christian Morales</td>\n",
       "      <td>NaN</td>\n",
       "      <td>November 30, 2019</td>\n",
       "      <td>2019</td>\n",
       "      <td>TV-G</td>\n",
       "      <td>67 min</td>\n",
       "      <td>Documentaries, International Movies</td>\n",
       "      <td>From Sierra de las Minas to Esquipulas, explor...</td>\n",
       "      <td>Movie</td>\n",
       "    </tr>\n",
       "    <tr>\n",
       "      <th>2</th>\n",
       "      <td>81213894</td>\n",
       "      <td>The Zoya Factor</td>\n",
       "      <td>Abhishek Sharma</td>\n",
       "      <td>Sonam Kapoor, Dulquer Salmaan, Sanjay Kapoor, ...</td>\n",
       "      <td>India</td>\n",
       "      <td>November 30, 2019</td>\n",
       "      <td>2019</td>\n",
       "      <td>TV-14</td>\n",
       "      <td>135 min</td>\n",
       "      <td>Comedies, Dramas, International Movies</td>\n",
       "      <td>A goofy copywriter unwittingly convinces the I...</td>\n",
       "      <td>Movie</td>\n",
       "    </tr>\n",
       "    <tr>\n",
       "      <th>3</th>\n",
       "      <td>81082007</td>\n",
       "      <td>Atlantics</td>\n",
       "      <td>Mati Diop</td>\n",
       "      <td>Mama Sane, Amadou Mbow, Ibrahima Traore, Nicol...</td>\n",
       "      <td>France, Senegal, Belgium</td>\n",
       "      <td>November 29, 2019</td>\n",
       "      <td>2019</td>\n",
       "      <td>TV-14</td>\n",
       "      <td>106 min</td>\n",
       "      <td>Dramas, Independent Movies, International Movies</td>\n",
       "      <td>Arranged to marry a rich man, young Ada is cru...</td>\n",
       "      <td>Movie</td>\n",
       "    </tr>\n",
       "    <tr>\n",
       "      <th>4</th>\n",
       "      <td>80213643</td>\n",
       "      <td>Chip and Potato</td>\n",
       "      <td>NaN</td>\n",
       "      <td>Abigail Oliver, Andrea Libman, Briana Buckmast...</td>\n",
       "      <td>Canada, United Kingdom</td>\n",
       "      <td>NaN</td>\n",
       "      <td>2019</td>\n",
       "      <td>TV-Y</td>\n",
       "      <td>2 Seasons</td>\n",
       "      <td>Kids' TV</td>\n",
       "      <td>Lovable pug Chip starts kindergarten, makes ne...</td>\n",
       "      <td>TV Show</td>\n",
       "    </tr>\n",
       "  </tbody>\n",
       "</table>\n",
       "</div>"
      ],
      "text/plain": [
       "    show_id                                title                    director  \\\n",
       "0  81193313                            Chocolate                         NaN   \n",
       "1  81197050  Guatemala: Heart of the Mayan World  Luis Ara, Ignacio Jaunsolo   \n",
       "2  81213894                      The Zoya Factor             Abhishek Sharma   \n",
       "3  81082007                            Atlantics                   Mati Diop   \n",
       "4  80213643                      Chip and Potato                         NaN   \n",
       "\n",
       "                                                cast  \\\n",
       "0  Ha Ji-won, Yoon Kye-sang, Jang Seung-jo, Kang ...   \n",
       "1                                  Christian Morales   \n",
       "2  Sonam Kapoor, Dulquer Salmaan, Sanjay Kapoor, ...   \n",
       "3  Mama Sane, Amadou Mbow, Ibrahima Traore, Nicol...   \n",
       "4  Abigail Oliver, Andrea Libman, Briana Buckmast...   \n",
       "\n",
       "                    country         date_added  release_year rating  \\\n",
       "0               South Korea  November 30, 2019          2019  TV-14   \n",
       "1                       NaN  November 30, 2019          2019   TV-G   \n",
       "2                     India  November 30, 2019          2019  TV-14   \n",
       "3  France, Senegal, Belgium  November 29, 2019          2019  TV-14   \n",
       "4    Canada, United Kingdom                NaN          2019   TV-Y   \n",
       "\n",
       "    duration                                          listed_in  \\\n",
       "0   1 Season  International TV Shows, Korean TV Shows, Roman...   \n",
       "1     67 min                Documentaries, International Movies   \n",
       "2    135 min             Comedies, Dramas, International Movies   \n",
       "3    106 min   Dramas, Independent Movies, International Movies   \n",
       "4  2 Seasons                                           Kids' TV   \n",
       "\n",
       "                                         description     type  \n",
       "0  Brought together by meaningful meals in the pa...  TV Show  \n",
       "1  From Sierra de las Minas to Esquipulas, explor...    Movie  \n",
       "2  A goofy copywriter unwittingly convinces the I...    Movie  \n",
       "3  Arranged to marry a rich man, young Ada is cru...    Movie  \n",
       "4  Lovable pug Chip starts kindergarten, makes ne...  TV Show  "
      ]
     },
     "execution_count": 5,
     "metadata": {},
     "output_type": "execute_result"
    }
   ],
   "source": [
    "netflix_titles = pd.read_csv(\"/Users/kenyashiafernandez/Documents/GitHub/Final-Project/Data/netflix_titles_nov_2019.csv\")\n",
    "netflix_titles.head()"
   ]
  },
  {
   "cell_type": "code",
   "execution_count": 6,
   "id": "9c718d8e-5c53-40de-ba19-800912e0d68f",
   "metadata": {},
   "outputs": [
    {
     "data": {
      "text/html": [
       "<div>\n",
       "<style scoped>\n",
       "    .dataframe tbody tr th:only-of-type {\n",
       "        vertical-align: middle;\n",
       "    }\n",
       "\n",
       "    .dataframe tbody tr th {\n",
       "        vertical-align: top;\n",
       "    }\n",
       "\n",
       "    .dataframe thead th {\n",
       "        text-align: right;\n",
       "    }\n",
       "</style>\n",
       "<table border=\"1\" class=\"dataframe\">\n",
       "  <thead>\n",
       "    <tr style=\"text-align: right;\">\n",
       "      <th></th>\n",
       "      <th>Unnamed: 0</th>\n",
       "      <th>id</th>\n",
       "      <th>title</th>\n",
       "      <th>type</th>\n",
       "      <th>description</th>\n",
       "      <th>release_year</th>\n",
       "      <th>age_certification</th>\n",
       "      <th>runtime</th>\n",
       "      <th>production_countries</th>\n",
       "      <th>seasons</th>\n",
       "      <th>...</th>\n",
       "      <th>thriller</th>\n",
       "      <th>crime</th>\n",
       "      <th>comedy</th>\n",
       "      <th>documentation</th>\n",
       "      <th>fantasy</th>\n",
       "      <th>scifi</th>\n",
       "      <th>romance</th>\n",
       "      <th>horror</th>\n",
       "      <th>history</th>\n",
       "      <th>music</th>\n",
       "    </tr>\n",
       "  </thead>\n",
       "  <tbody>\n",
       "    <tr>\n",
       "      <th>0</th>\n",
       "      <td>0</td>\n",
       "      <td>ts300399</td>\n",
       "      <td>Five Came Back: The Reference Films</td>\n",
       "      <td>SHOW</td>\n",
       "      <td>This collection includes 12 World War II-era p...</td>\n",
       "      <td>1945</td>\n",
       "      <td>TV-MA</td>\n",
       "      <td>51</td>\n",
       "      <td>['US']</td>\n",
       "      <td>1.0</td>\n",
       "      <td>...</td>\n",
       "      <td>0</td>\n",
       "      <td>0</td>\n",
       "      <td>0</td>\n",
       "      <td>1</td>\n",
       "      <td>0</td>\n",
       "      <td>0</td>\n",
       "      <td>0</td>\n",
       "      <td>0</td>\n",
       "      <td>0</td>\n",
       "      <td>0</td>\n",
       "    </tr>\n",
       "    <tr>\n",
       "      <th>1</th>\n",
       "      <td>1</td>\n",
       "      <td>tm84618</td>\n",
       "      <td>Taxi Driver</td>\n",
       "      <td>MOVIE</td>\n",
       "      <td>A mentally unstable Vietnam War veteran works ...</td>\n",
       "      <td>1976</td>\n",
       "      <td>R</td>\n",
       "      <td>114</td>\n",
       "      <td>['US']</td>\n",
       "      <td>NaN</td>\n",
       "      <td>...</td>\n",
       "      <td>0</td>\n",
       "      <td>1</td>\n",
       "      <td>0</td>\n",
       "      <td>0</td>\n",
       "      <td>0</td>\n",
       "      <td>0</td>\n",
       "      <td>0</td>\n",
       "      <td>0</td>\n",
       "      <td>0</td>\n",
       "      <td>0</td>\n",
       "    </tr>\n",
       "    <tr>\n",
       "      <th>2</th>\n",
       "      <td>2</td>\n",
       "      <td>tm154986</td>\n",
       "      <td>Deliverance</td>\n",
       "      <td>MOVIE</td>\n",
       "      <td>Intent on seeing the Cahulawassee River before...</td>\n",
       "      <td>1972</td>\n",
       "      <td>R</td>\n",
       "      <td>109</td>\n",
       "      <td>['US']</td>\n",
       "      <td>NaN</td>\n",
       "      <td>...</td>\n",
       "      <td>1</td>\n",
       "      <td>0</td>\n",
       "      <td>0</td>\n",
       "      <td>0</td>\n",
       "      <td>0</td>\n",
       "      <td>0</td>\n",
       "      <td>0</td>\n",
       "      <td>0</td>\n",
       "      <td>0</td>\n",
       "      <td>0</td>\n",
       "    </tr>\n",
       "    <tr>\n",
       "      <th>3</th>\n",
       "      <td>3</td>\n",
       "      <td>tm127384</td>\n",
       "      <td>Monty Python and the Holy Grail</td>\n",
       "      <td>MOVIE</td>\n",
       "      <td>King Arthur, accompanied by his squire, recrui...</td>\n",
       "      <td>1975</td>\n",
       "      <td>PG</td>\n",
       "      <td>91</td>\n",
       "      <td>['GB']</td>\n",
       "      <td>NaN</td>\n",
       "      <td>...</td>\n",
       "      <td>0</td>\n",
       "      <td>0</td>\n",
       "      <td>1</td>\n",
       "      <td>0</td>\n",
       "      <td>1</td>\n",
       "      <td>0</td>\n",
       "      <td>0</td>\n",
       "      <td>0</td>\n",
       "      <td>0</td>\n",
       "      <td>0</td>\n",
       "    </tr>\n",
       "    <tr>\n",
       "      <th>4</th>\n",
       "      <td>4</td>\n",
       "      <td>tm120801</td>\n",
       "      <td>The Dirty Dozen</td>\n",
       "      <td>MOVIE</td>\n",
       "      <td>12 American military prisoners in World War II...</td>\n",
       "      <td>1967</td>\n",
       "      <td>NaN</td>\n",
       "      <td>150</td>\n",
       "      <td>['GB', 'US']</td>\n",
       "      <td>NaN</td>\n",
       "      <td>...</td>\n",
       "      <td>0</td>\n",
       "      <td>0</td>\n",
       "      <td>0</td>\n",
       "      <td>0</td>\n",
       "      <td>0</td>\n",
       "      <td>0</td>\n",
       "      <td>0</td>\n",
       "      <td>0</td>\n",
       "      <td>0</td>\n",
       "      <td>0</td>\n",
       "    </tr>\n",
       "  </tbody>\n",
       "</table>\n",
       "<p>5 rows × 34 columns</p>\n",
       "</div>"
      ],
      "text/plain": [
       "   Unnamed: 0        id                                title   type  \\\n",
       "0           0  ts300399  Five Came Back: The Reference Films   SHOW   \n",
       "1           1   tm84618                          Taxi Driver  MOVIE   \n",
       "2           2  tm154986                          Deliverance  MOVIE   \n",
       "3           3  tm127384      Monty Python and the Holy Grail  MOVIE   \n",
       "4           4  tm120801                      The Dirty Dozen  MOVIE   \n",
       "\n",
       "                                         description  release_year  \\\n",
       "0  This collection includes 12 World War II-era p...          1945   \n",
       "1  A mentally unstable Vietnam War veteran works ...          1976   \n",
       "2  Intent on seeing the Cahulawassee River before...          1972   \n",
       "3  King Arthur, accompanied by his squire, recrui...          1975   \n",
       "4  12 American military prisoners in World War II...          1967   \n",
       "\n",
       "  age_certification  runtime production_countries  seasons  ... thriller  \\\n",
       "0             TV-MA       51               ['US']      1.0  ...        0   \n",
       "1                 R      114               ['US']      NaN  ...        0   \n",
       "2                 R      109               ['US']      NaN  ...        1   \n",
       "3                PG       91               ['GB']      NaN  ...        0   \n",
       "4               NaN      150         ['GB', 'US']      NaN  ...        0   \n",
       "\n",
       "   crime  comedy  documentation  fantasy  scifi  romance  horror  history  \\\n",
       "0      0       0              1        0      0        0       0        0   \n",
       "1      1       0              0        0      0        0       0        0   \n",
       "2      0       0              0        0      0        0       0        0   \n",
       "3      0       1              0        1      0        0       0        0   \n",
       "4      0       0              0        0      0        0       0        0   \n",
       "\n",
       "   music  \n",
       "0      0  \n",
       "1      0  \n",
       "2      0  \n",
       "3      0  \n",
       "4      0  \n",
       "\n",
       "[5 rows x 34 columns]"
      ]
     },
     "execution_count": 6,
     "metadata": {},
     "output_type": "execute_result"
    }
   ],
   "source": [
    "netflix_recode = pd.read_csv('/Users/kenyashiafernandez/Documents/GitHub/Final-Project/Data/netflix_recode.csv')\n",
    "netflix_recode.head()"
   ]
  },
  {
   "cell_type": "code",
   "execution_count": 7,
   "id": "b58cc2b1-f26f-4e6f-ad40-24279c191d1a",
   "metadata": {},
   "outputs": [
    {
     "data": {
      "text/plain": [
       "Unnamed: 0                 0\n",
       "id                         0\n",
       "title                      1\n",
       "type                       0\n",
       "description               18\n",
       "release_year               0\n",
       "age_certification       2619\n",
       "runtime                    0\n",
       "production_countries       0\n",
       "seasons                 3744\n",
       "imdb_id                  403\n",
       "imdb_score               482\n",
       "imdb_votes               498\n",
       "tmdb_popularity           91\n",
       "tmdb_score               311\n",
       "drama                      0\n",
       "sport                      0\n",
       "war                        0\n",
       "animation                  0\n",
       "family                     0\n",
       "action                     0\n",
       "western                    0\n",
       "european                   0\n",
       "reality                    0\n",
       "thriller                   0\n",
       "crime                      0\n",
       "comedy                     0\n",
       "documentation              0\n",
       "fantasy                    0\n",
       "scifi                      0\n",
       "romance                    0\n",
       "horror                     0\n",
       "history                    0\n",
       "music                      0\n",
       "dtype: int64"
      ]
     },
     "execution_count": 7,
     "metadata": {},
     "output_type": "execute_result"
    }
   ],
   "source": [
    "netflix_recode.isnull().sum()"
   ]
  },
  {
   "cell_type": "code",
   "execution_count": 8,
   "id": "94c46883-d878-4aaa-84ac-4b8570e641fa",
   "metadata": {},
   "outputs": [
    {
     "data": {
      "text/html": [
       "<div>\n",
       "<style scoped>\n",
       "    .dataframe tbody tr th:only-of-type {\n",
       "        vertical-align: middle;\n",
       "    }\n",
       "\n",
       "    .dataframe tbody tr th {\n",
       "        vertical-align: top;\n",
       "    }\n",
       "\n",
       "    .dataframe thead th {\n",
       "        text-align: right;\n",
       "    }\n",
       "</style>\n",
       "<table border=\"1\" class=\"dataframe\">\n",
       "  <thead>\n",
       "    <tr style=\"text-align: right;\">\n",
       "      <th></th>\n",
       "      <th>show_id</th>\n",
       "      <th>title</th>\n",
       "      <th>director</th>\n",
       "      <th>cast</th>\n",
       "      <th>country</th>\n",
       "      <th>date_added</th>\n",
       "      <th>release_year_x</th>\n",
       "      <th>rating</th>\n",
       "      <th>duration</th>\n",
       "      <th>listed_in</th>\n",
       "      <th>...</th>\n",
       "      <th>thriller</th>\n",
       "      <th>crime</th>\n",
       "      <th>comedy</th>\n",
       "      <th>documentation</th>\n",
       "      <th>fantasy</th>\n",
       "      <th>scifi</th>\n",
       "      <th>romance</th>\n",
       "      <th>horror</th>\n",
       "      <th>history</th>\n",
       "      <th>music</th>\n",
       "    </tr>\n",
       "  </thead>\n",
       "  <tbody>\n",
       "    <tr>\n",
       "      <th>0</th>\n",
       "      <td>81193313.0</td>\n",
       "      <td>Chocolate</td>\n",
       "      <td>NaN</td>\n",
       "      <td>Ha Ji-won, Yoon Kye-sang, Jang Seung-jo, Kang ...</td>\n",
       "      <td>South Korea</td>\n",
       "      <td>November 30, 2019</td>\n",
       "      <td>2019.0</td>\n",
       "      <td>TV-14</td>\n",
       "      <td>1 Season</td>\n",
       "      <td>International TV Shows, Korean TV Shows, Roman...</td>\n",
       "      <td>...</td>\n",
       "      <td>0.0</td>\n",
       "      <td>0.0</td>\n",
       "      <td>0.0</td>\n",
       "      <td>0.0</td>\n",
       "      <td>0.0</td>\n",
       "      <td>0.0</td>\n",
       "      <td>0.0</td>\n",
       "      <td>0.0</td>\n",
       "      <td>0.0</td>\n",
       "      <td>0.0</td>\n",
       "    </tr>\n",
       "    <tr>\n",
       "      <th>1</th>\n",
       "      <td>81197050.0</td>\n",
       "      <td>Guatemala: Heart of the Mayan World</td>\n",
       "      <td>Luis Ara, Ignacio Jaunsolo</td>\n",
       "      <td>Christian Morales</td>\n",
       "      <td>NaN</td>\n",
       "      <td>November 30, 2019</td>\n",
       "      <td>2019.0</td>\n",
       "      <td>TV-G</td>\n",
       "      <td>67 min</td>\n",
       "      <td>Documentaries, International Movies</td>\n",
       "      <td>...</td>\n",
       "      <td>0.0</td>\n",
       "      <td>0.0</td>\n",
       "      <td>0.0</td>\n",
       "      <td>1.0</td>\n",
       "      <td>0.0</td>\n",
       "      <td>0.0</td>\n",
       "      <td>0.0</td>\n",
       "      <td>0.0</td>\n",
       "      <td>0.0</td>\n",
       "      <td>0.0</td>\n",
       "    </tr>\n",
       "    <tr>\n",
       "      <th>2</th>\n",
       "      <td>81213894.0</td>\n",
       "      <td>The Zoya Factor</td>\n",
       "      <td>Abhishek Sharma</td>\n",
       "      <td>Sonam Kapoor, Dulquer Salmaan, Sanjay Kapoor, ...</td>\n",
       "      <td>India</td>\n",
       "      <td>November 30, 2019</td>\n",
       "      <td>2019.0</td>\n",
       "      <td>TV-14</td>\n",
       "      <td>135 min</td>\n",
       "      <td>Comedies, Dramas, International Movies</td>\n",
       "      <td>...</td>\n",
       "      <td>0.0</td>\n",
       "      <td>0.0</td>\n",
       "      <td>1.0</td>\n",
       "      <td>0.0</td>\n",
       "      <td>0.0</td>\n",
       "      <td>0.0</td>\n",
       "      <td>1.0</td>\n",
       "      <td>0.0</td>\n",
       "      <td>0.0</td>\n",
       "      <td>0.0</td>\n",
       "    </tr>\n",
       "    <tr>\n",
       "      <th>3</th>\n",
       "      <td>81082007.0</td>\n",
       "      <td>Atlantics</td>\n",
       "      <td>Mati Diop</td>\n",
       "      <td>Mama Sane, Amadou Mbow, Ibrahima Traore, Nicol...</td>\n",
       "      <td>France, Senegal, Belgium</td>\n",
       "      <td>November 29, 2019</td>\n",
       "      <td>2019.0</td>\n",
       "      <td>TV-14</td>\n",
       "      <td>106 min</td>\n",
       "      <td>Dramas, Independent Movies, International Movies</td>\n",
       "      <td>...</td>\n",
       "      <td>0.0</td>\n",
       "      <td>0.0</td>\n",
       "      <td>0.0</td>\n",
       "      <td>0.0</td>\n",
       "      <td>1.0</td>\n",
       "      <td>0.0</td>\n",
       "      <td>1.0</td>\n",
       "      <td>0.0</td>\n",
       "      <td>0.0</td>\n",
       "      <td>0.0</td>\n",
       "    </tr>\n",
       "    <tr>\n",
       "      <th>4</th>\n",
       "      <td>80213643.0</td>\n",
       "      <td>Chip and Potato</td>\n",
       "      <td>NaN</td>\n",
       "      <td>Abigail Oliver, Andrea Libman, Briana Buckmast...</td>\n",
       "      <td>Canada, United Kingdom</td>\n",
       "      <td>NaN</td>\n",
       "      <td>2019.0</td>\n",
       "      <td>TV-Y</td>\n",
       "      <td>2 Seasons</td>\n",
       "      <td>Kids' TV</td>\n",
       "      <td>...</td>\n",
       "      <td>0.0</td>\n",
       "      <td>0.0</td>\n",
       "      <td>0.0</td>\n",
       "      <td>0.0</td>\n",
       "      <td>0.0</td>\n",
       "      <td>0.0</td>\n",
       "      <td>0.0</td>\n",
       "      <td>0.0</td>\n",
       "      <td>0.0</td>\n",
       "      <td>0.0</td>\n",
       "    </tr>\n",
       "  </tbody>\n",
       "</table>\n",
       "<p>5 rows × 45 columns</p>\n",
       "</div>"
      ],
      "text/plain": [
       "      show_id                                title  \\\n",
       "0  81193313.0                            Chocolate   \n",
       "1  81197050.0  Guatemala: Heart of the Mayan World   \n",
       "2  81213894.0                      The Zoya Factor   \n",
       "3  81082007.0                            Atlantics   \n",
       "4  80213643.0                      Chip and Potato   \n",
       "\n",
       "                     director  \\\n",
       "0                         NaN   \n",
       "1  Luis Ara, Ignacio Jaunsolo   \n",
       "2             Abhishek Sharma   \n",
       "3                   Mati Diop   \n",
       "4                         NaN   \n",
       "\n",
       "                                                cast  \\\n",
       "0  Ha Ji-won, Yoon Kye-sang, Jang Seung-jo, Kang ...   \n",
       "1                                  Christian Morales   \n",
       "2  Sonam Kapoor, Dulquer Salmaan, Sanjay Kapoor, ...   \n",
       "3  Mama Sane, Amadou Mbow, Ibrahima Traore, Nicol...   \n",
       "4  Abigail Oliver, Andrea Libman, Briana Buckmast...   \n",
       "\n",
       "                    country         date_added  release_year_x rating  \\\n",
       "0               South Korea  November 30, 2019          2019.0  TV-14   \n",
       "1                       NaN  November 30, 2019          2019.0   TV-G   \n",
       "2                     India  November 30, 2019          2019.0  TV-14   \n",
       "3  France, Senegal, Belgium  November 29, 2019          2019.0  TV-14   \n",
       "4    Canada, United Kingdom                NaN          2019.0   TV-Y   \n",
       "\n",
       "    duration                                          listed_in  ... thriller  \\\n",
       "0   1 Season  International TV Shows, Korean TV Shows, Roman...  ...      0.0   \n",
       "1     67 min                Documentaries, International Movies  ...      0.0   \n",
       "2    135 min             Comedies, Dramas, International Movies  ...      0.0   \n",
       "3    106 min   Dramas, Independent Movies, International Movies  ...      0.0   \n",
       "4  2 Seasons                                           Kids' TV  ...      0.0   \n",
       "\n",
       "  crime  comedy documentation fantasy scifi  romance horror  history music  \n",
       "0   0.0     0.0           0.0     0.0   0.0      0.0    0.0      0.0   0.0  \n",
       "1   0.0     0.0           1.0     0.0   0.0      0.0    0.0      0.0   0.0  \n",
       "2   0.0     1.0           0.0     0.0   0.0      1.0    0.0      0.0   0.0  \n",
       "3   0.0     0.0           0.0     1.0   0.0      1.0    0.0      0.0   0.0  \n",
       "4   0.0     0.0           0.0     0.0   0.0      0.0    0.0      0.0   0.0  \n",
       "\n",
       "[5 rows x 45 columns]"
      ]
     },
     "execution_count": 8,
     "metadata": {},
     "output_type": "execute_result"
    }
   ],
   "source": [
    "new_netflix = pd.merge(netflix_titles,netflix_recode,on = 'title', how = 'outer')\n",
    "new_netflix.head()"
   ]
  },
  {
   "cell_type": "code",
   "execution_count": 9,
   "id": "5be10be4-0679-44b7-a898-73e4006bb080",
   "metadata": {},
   "outputs": [
    {
     "data": {
      "text/plain": [
       "show_id                 3616\n",
       "title                      1\n",
       "director                5538\n",
       "cast                    4172\n",
       "country                 4045\n",
       "date_added              4267\n",
       "release_year_x          3616\n",
       "rating                  3626\n",
       "duration                3616\n",
       "listed_in               3616\n",
       "description_x           3616\n",
       "type_x                  3616\n",
       "Unnamed: 0              3594\n",
       "id                      3594\n",
       "type_y                  3594\n",
       "description_y           3612\n",
       "release_year_y          3594\n",
       "age_certification       6230\n",
       "runtime                 3594\n",
       "production_countries    3594\n",
       "seasons                 7362\n",
       "imdb_id                 4002\n",
       "imdb_score              4082\n",
       "imdb_votes              4098\n",
       "tmdb_popularity         3685\n",
       "tmdb_score              3909\n",
       "drama                   3594\n",
       "sport                   3594\n",
       "war                     3594\n",
       "animation               3594\n",
       "family                  3594\n",
       "action                  3594\n",
       "western                 3594\n",
       "european                3594\n",
       "reality                 3594\n",
       "thriller                3594\n",
       "crime                   3594\n",
       "comedy                  3594\n",
       "documentation           3594\n",
       "fantasy                 3594\n",
       "scifi                   3594\n",
       "romance                 3594\n",
       "horror                  3594\n",
       "history                 3594\n",
       "music                   3594\n",
       "dtype: int64"
      ]
     },
     "execution_count": 9,
     "metadata": {},
     "output_type": "execute_result"
    }
   ],
   "source": [
    "new_netflix.isnull().sum()"
   ]
  },
  {
   "cell_type": "markdown",
   "id": "13086081-72ea-4ad3-aec4-64c7be66c013",
   "metadata": {},
   "source": [
    "## Data Wrangling"
   ]
  },
  {
   "cell_type": "markdown",
   "id": "b1df8df8-34a0-493a-87b1-2afc57d83ab4",
   "metadata": {},
   "source": [
    "### Removing unnecessary columns"
   ]
  },
  {
   "cell_type": "code",
   "execution_count": 10,
   "id": "eee50406-add0-43fb-8ade-9e68ef7a2d8a",
   "metadata": {},
   "outputs": [],
   "source": [
    "new_netflix.drop(['description_x'], axis=1, inplace = True)\n",
    "new_netflix.drop(['description_y'], axis=1, inplace = True)\n",
    "new_netflix.drop(['music'], axis=1, inplace = True)\n",
    "new_netflix.drop(['history'], axis=1, inplace = True)\n",
    "new_netflix.drop(['horror'], axis=1, inplace = True)\n",
    "new_netflix.drop(['romance'], axis=1, inplace = True)\n",
    "new_netflix.drop(['scifi'], axis=1, inplace = True)\n",
    "new_netflix.drop(['fantasy'], axis=1, inplace = True)\n",
    "new_netflix.drop(['documentation'], axis=1, inplace = True)\n",
    "new_netflix.drop(['comedy'], axis=1, inplace = True)\n",
    "new_netflix.drop(['crime'], axis=1, inplace = True)\n",
    "new_netflix.drop(['thriller'], axis=1, inplace = True)\n",
    "new_netflix.drop(['reality'], axis=1, inplace = True)\n",
    "new_netflix.drop(['european'], axis=1, inplace = True)\n",
    "new_netflix.drop(['western'], axis=1, inplace = True)\n",
    "new_netflix.drop(['action'], axis=1, inplace = True)\n",
    "new_netflix.drop(['family'], axis=1, inplace = True)\n",
    "new_netflix.drop(['animation'], axis=1, inplace = True)\n",
    "new_netflix.drop(['war'], axis=1, inplace = True)\n",
    "new_netflix.drop(['sport'], axis=1, inplace = True)\n",
    "new_netflix.drop(['drama'], axis=1, inplace = True)\n",
    "new_netflix.drop(['tmdb_score'], axis=1, inplace = True)\n",
    "new_netflix.drop(['tmdb_popularity'], axis=1, inplace = True)\n",
    "new_netflix.drop(['imdb_votes'], axis=1, inplace = True)\n",
    "new_netflix.drop(['production_countries'], axis=1, inplace = True)\n",
    "new_netflix.drop(['runtime'], axis=1, inplace = True)\n",
    "new_netflix.drop(['age_certification'], axis=1, inplace = True)\n",
    "new_netflix.drop(['seasons'], axis=1, inplace = True)\n",
    "new_netflix.drop(['id'], axis=1, inplace = True)\n",
    "new_netflix.drop(['Unnamed: 0'], axis=1, inplace = True)\n",
    "new_netflix.drop(['date_added'], axis=1, inplace = True)"
   ]
  },
  {
   "cell_type": "code",
   "execution_count": 11,
   "id": "31883012-ba2c-4799-b79e-91e99ebc40fb",
   "metadata": {},
   "outputs": [],
   "source": [
    "new_netflix.drop(['type_y'], axis=1, inplace = True)\n",
    "new_netflix.drop(['release_year_y'], axis=1, inplace = True)\n",
    "new_netflix.drop(['imdb_id'], axis=1, inplace = True)"
   ]
  },
  {
   "cell_type": "code",
   "execution_count": 12,
   "id": "4c6a8e65-e396-4c99-9605-9e21d0737bcf",
   "metadata": {},
   "outputs": [
    {
     "data": {
      "text/html": [
       "<div>\n",
       "<style scoped>\n",
       "    .dataframe tbody tr th:only-of-type {\n",
       "        vertical-align: middle;\n",
       "    }\n",
       "\n",
       "    .dataframe tbody tr th {\n",
       "        vertical-align: top;\n",
       "    }\n",
       "\n",
       "    .dataframe thead th {\n",
       "        text-align: right;\n",
       "    }\n",
       "</style>\n",
       "<table border=\"1\" class=\"dataframe\">\n",
       "  <thead>\n",
       "    <tr style=\"text-align: right;\">\n",
       "      <th></th>\n",
       "      <th>show_id</th>\n",
       "      <th>title</th>\n",
       "      <th>director</th>\n",
       "      <th>cast</th>\n",
       "      <th>country</th>\n",
       "      <th>release_year_x</th>\n",
       "      <th>rating</th>\n",
       "      <th>duration</th>\n",
       "      <th>listed_in</th>\n",
       "      <th>type_x</th>\n",
       "      <th>imdb_score</th>\n",
       "    </tr>\n",
       "  </thead>\n",
       "  <tbody>\n",
       "    <tr>\n",
       "      <th>0</th>\n",
       "      <td>81193313.0</td>\n",
       "      <td>Chocolate</td>\n",
       "      <td>NaN</td>\n",
       "      <td>Ha Ji-won, Yoon Kye-sang, Jang Seung-jo, Kang ...</td>\n",
       "      <td>South Korea</td>\n",
       "      <td>2019.0</td>\n",
       "      <td>TV-14</td>\n",
       "      <td>1 Season</td>\n",
       "      <td>International TV Shows, Korean TV Shows, Roman...</td>\n",
       "      <td>TV Show</td>\n",
       "      <td>NaN</td>\n",
       "    </tr>\n",
       "    <tr>\n",
       "      <th>1</th>\n",
       "      <td>81197050.0</td>\n",
       "      <td>Guatemala: Heart of the Mayan World</td>\n",
       "      <td>Luis Ara, Ignacio Jaunsolo</td>\n",
       "      <td>Christian Morales</td>\n",
       "      <td>NaN</td>\n",
       "      <td>2019.0</td>\n",
       "      <td>TV-G</td>\n",
       "      <td>67 min</td>\n",
       "      <td>Documentaries, International Movies</td>\n",
       "      <td>Movie</td>\n",
       "      <td>6.6</td>\n",
       "    </tr>\n",
       "    <tr>\n",
       "      <th>2</th>\n",
       "      <td>81213894.0</td>\n",
       "      <td>The Zoya Factor</td>\n",
       "      <td>Abhishek Sharma</td>\n",
       "      <td>Sonam Kapoor, Dulquer Salmaan, Sanjay Kapoor, ...</td>\n",
       "      <td>India</td>\n",
       "      <td>2019.0</td>\n",
       "      <td>TV-14</td>\n",
       "      <td>135 min</td>\n",
       "      <td>Comedies, Dramas, International Movies</td>\n",
       "      <td>Movie</td>\n",
       "      <td>4.3</td>\n",
       "    </tr>\n",
       "    <tr>\n",
       "      <th>3</th>\n",
       "      <td>81082007.0</td>\n",
       "      <td>Atlantics</td>\n",
       "      <td>Mati Diop</td>\n",
       "      <td>Mama Sane, Amadou Mbow, Ibrahima Traore, Nicol...</td>\n",
       "      <td>France, Senegal, Belgium</td>\n",
       "      <td>2019.0</td>\n",
       "      <td>TV-14</td>\n",
       "      <td>106 min</td>\n",
       "      <td>Dramas, Independent Movies, International Movies</td>\n",
       "      <td>Movie</td>\n",
       "      <td>6.7</td>\n",
       "    </tr>\n",
       "    <tr>\n",
       "      <th>4</th>\n",
       "      <td>80213643.0</td>\n",
       "      <td>Chip and Potato</td>\n",
       "      <td>NaN</td>\n",
       "      <td>Abigail Oliver, Andrea Libman, Briana Buckmast...</td>\n",
       "      <td>Canada, United Kingdom</td>\n",
       "      <td>2019.0</td>\n",
       "      <td>TV-Y</td>\n",
       "      <td>2 Seasons</td>\n",
       "      <td>Kids' TV</td>\n",
       "      <td>TV Show</td>\n",
       "      <td>6.3</td>\n",
       "    </tr>\n",
       "  </tbody>\n",
       "</table>\n",
       "</div>"
      ],
      "text/plain": [
       "      show_id                                title  \\\n",
       "0  81193313.0                            Chocolate   \n",
       "1  81197050.0  Guatemala: Heart of the Mayan World   \n",
       "2  81213894.0                      The Zoya Factor   \n",
       "3  81082007.0                            Atlantics   \n",
       "4  80213643.0                      Chip and Potato   \n",
       "\n",
       "                     director  \\\n",
       "0                         NaN   \n",
       "1  Luis Ara, Ignacio Jaunsolo   \n",
       "2             Abhishek Sharma   \n",
       "3                   Mati Diop   \n",
       "4                         NaN   \n",
       "\n",
       "                                                cast  \\\n",
       "0  Ha Ji-won, Yoon Kye-sang, Jang Seung-jo, Kang ...   \n",
       "1                                  Christian Morales   \n",
       "2  Sonam Kapoor, Dulquer Salmaan, Sanjay Kapoor, ...   \n",
       "3  Mama Sane, Amadou Mbow, Ibrahima Traore, Nicol...   \n",
       "4  Abigail Oliver, Andrea Libman, Briana Buckmast...   \n",
       "\n",
       "                    country  release_year_x rating   duration  \\\n",
       "0               South Korea          2019.0  TV-14   1 Season   \n",
       "1                       NaN          2019.0   TV-G     67 min   \n",
       "2                     India          2019.0  TV-14    135 min   \n",
       "3  France, Senegal, Belgium          2019.0  TV-14    106 min   \n",
       "4    Canada, United Kingdom          2019.0   TV-Y  2 Seasons   \n",
       "\n",
       "                                           listed_in   type_x  imdb_score  \n",
       "0  International TV Shows, Korean TV Shows, Roman...  TV Show         NaN  \n",
       "1                Documentaries, International Movies    Movie         6.6  \n",
       "2             Comedies, Dramas, International Movies    Movie         4.3  \n",
       "3   Dramas, Independent Movies, International Movies    Movie         6.7  \n",
       "4                                           Kids' TV  TV Show         6.3  "
      ]
     },
     "execution_count": 12,
     "metadata": {},
     "output_type": "execute_result"
    }
   ],
   "source": [
    "new_netflix.head()"
   ]
  },
  {
   "cell_type": "markdown",
   "id": "a53a304f-76d1-474b-bc3f-0470db34af21",
   "metadata": {},
   "source": [
    "### Rename Columns"
   ]
  },
  {
   "cell_type": "code",
   "execution_count": 13,
   "id": "3438255f-a7d6-4b65-b38d-85c3ea202c42",
   "metadata": {},
   "outputs": [
    {
     "data": {
      "text/html": [
       "<div>\n",
       "<style scoped>\n",
       "    .dataframe tbody tr th:only-of-type {\n",
       "        vertical-align: middle;\n",
       "    }\n",
       "\n",
       "    .dataframe tbody tr th {\n",
       "        vertical-align: top;\n",
       "    }\n",
       "\n",
       "    .dataframe thead th {\n",
       "        text-align: right;\n",
       "    }\n",
       "</style>\n",
       "<table border=\"1\" class=\"dataframe\">\n",
       "  <thead>\n",
       "    <tr style=\"text-align: right;\">\n",
       "      <th></th>\n",
       "      <th>show_id</th>\n",
       "      <th>title</th>\n",
       "      <th>director</th>\n",
       "      <th>cast</th>\n",
       "      <th>country</th>\n",
       "      <th>release_year</th>\n",
       "      <th>rating</th>\n",
       "      <th>duration</th>\n",
       "      <th>genre</th>\n",
       "      <th>type</th>\n",
       "      <th>imdb_score</th>\n",
       "    </tr>\n",
       "  </thead>\n",
       "  <tbody>\n",
       "    <tr>\n",
       "      <th>0</th>\n",
       "      <td>81193313.0</td>\n",
       "      <td>Chocolate</td>\n",
       "      <td>NaN</td>\n",
       "      <td>Ha Ji-won, Yoon Kye-sang, Jang Seung-jo, Kang ...</td>\n",
       "      <td>South Korea</td>\n",
       "      <td>2019.0</td>\n",
       "      <td>TV-14</td>\n",
       "      <td>1 Season</td>\n",
       "      <td>International TV Shows, Korean TV Shows, Roman...</td>\n",
       "      <td>TV Show</td>\n",
       "      <td>NaN</td>\n",
       "    </tr>\n",
       "    <tr>\n",
       "      <th>1</th>\n",
       "      <td>81197050.0</td>\n",
       "      <td>Guatemala: Heart of the Mayan World</td>\n",
       "      <td>Luis Ara, Ignacio Jaunsolo</td>\n",
       "      <td>Christian Morales</td>\n",
       "      <td>NaN</td>\n",
       "      <td>2019.0</td>\n",
       "      <td>TV-G</td>\n",
       "      <td>67 min</td>\n",
       "      <td>Documentaries, International Movies</td>\n",
       "      <td>Movie</td>\n",
       "      <td>6.6</td>\n",
       "    </tr>\n",
       "    <tr>\n",
       "      <th>2</th>\n",
       "      <td>81213894.0</td>\n",
       "      <td>The Zoya Factor</td>\n",
       "      <td>Abhishek Sharma</td>\n",
       "      <td>Sonam Kapoor, Dulquer Salmaan, Sanjay Kapoor, ...</td>\n",
       "      <td>India</td>\n",
       "      <td>2019.0</td>\n",
       "      <td>TV-14</td>\n",
       "      <td>135 min</td>\n",
       "      <td>Comedies, Dramas, International Movies</td>\n",
       "      <td>Movie</td>\n",
       "      <td>4.3</td>\n",
       "    </tr>\n",
       "    <tr>\n",
       "      <th>3</th>\n",
       "      <td>81082007.0</td>\n",
       "      <td>Atlantics</td>\n",
       "      <td>Mati Diop</td>\n",
       "      <td>Mama Sane, Amadou Mbow, Ibrahima Traore, Nicol...</td>\n",
       "      <td>France, Senegal, Belgium</td>\n",
       "      <td>2019.0</td>\n",
       "      <td>TV-14</td>\n",
       "      <td>106 min</td>\n",
       "      <td>Dramas, Independent Movies, International Movies</td>\n",
       "      <td>Movie</td>\n",
       "      <td>6.7</td>\n",
       "    </tr>\n",
       "    <tr>\n",
       "      <th>4</th>\n",
       "      <td>80213643.0</td>\n",
       "      <td>Chip and Potato</td>\n",
       "      <td>NaN</td>\n",
       "      <td>Abigail Oliver, Andrea Libman, Briana Buckmast...</td>\n",
       "      <td>Canada, United Kingdom</td>\n",
       "      <td>2019.0</td>\n",
       "      <td>TV-Y</td>\n",
       "      <td>2 Seasons</td>\n",
       "      <td>Kids' TV</td>\n",
       "      <td>TV Show</td>\n",
       "      <td>6.3</td>\n",
       "    </tr>\n",
       "    <tr>\n",
       "      <th>...</th>\n",
       "      <td>...</td>\n",
       "      <td>...</td>\n",
       "      <td>...</td>\n",
       "      <td>...</td>\n",
       "      <td>...</td>\n",
       "      <td>...</td>\n",
       "      <td>...</td>\n",
       "      <td>...</td>\n",
       "      <td>...</td>\n",
       "      <td>...</td>\n",
       "      <td>...</td>\n",
       "    </tr>\n",
       "    <tr>\n",
       "      <th>9488</th>\n",
       "      <td>NaN</td>\n",
       "      <td>Fine Wine</td>\n",
       "      <td>NaN</td>\n",
       "      <td>NaN</td>\n",
       "      <td>NaN</td>\n",
       "      <td>NaN</td>\n",
       "      <td>NaN</td>\n",
       "      <td>NaN</td>\n",
       "      <td>NaN</td>\n",
       "      <td>NaN</td>\n",
       "      <td>6.8</td>\n",
       "    </tr>\n",
       "    <tr>\n",
       "      <th>9489</th>\n",
       "      <td>NaN</td>\n",
       "      <td>C/O Kaadhal</td>\n",
       "      <td>NaN</td>\n",
       "      <td>NaN</td>\n",
       "      <td>NaN</td>\n",
       "      <td>NaN</td>\n",
       "      <td>NaN</td>\n",
       "      <td>NaN</td>\n",
       "      <td>NaN</td>\n",
       "      <td>NaN</td>\n",
       "      <td>7.7</td>\n",
       "    </tr>\n",
       "    <tr>\n",
       "      <th>9490</th>\n",
       "      <td>NaN</td>\n",
       "      <td>Lokillo</td>\n",
       "      <td>NaN</td>\n",
       "      <td>NaN</td>\n",
       "      <td>NaN</td>\n",
       "      <td>NaN</td>\n",
       "      <td>NaN</td>\n",
       "      <td>NaN</td>\n",
       "      <td>NaN</td>\n",
       "      <td>NaN</td>\n",
       "      <td>3.8</td>\n",
       "    </tr>\n",
       "    <tr>\n",
       "      <th>9491</th>\n",
       "      <td>NaN</td>\n",
       "      <td>Dad Stop Embarrassing Me - The Afterparty</td>\n",
       "      <td>NaN</td>\n",
       "      <td>NaN</td>\n",
       "      <td>NaN</td>\n",
       "      <td>NaN</td>\n",
       "      <td>NaN</td>\n",
       "      <td>NaN</td>\n",
       "      <td>NaN</td>\n",
       "      <td>NaN</td>\n",
       "      <td>NaN</td>\n",
       "    </tr>\n",
       "    <tr>\n",
       "      <th>9492</th>\n",
       "      <td>NaN</td>\n",
       "      <td>Mighty Little Bheem: Kite Festival</td>\n",
       "      <td>NaN</td>\n",
       "      <td>NaN</td>\n",
       "      <td>NaN</td>\n",
       "      <td>NaN</td>\n",
       "      <td>NaN</td>\n",
       "      <td>NaN</td>\n",
       "      <td>NaN</td>\n",
       "      <td>NaN</td>\n",
       "      <td>7.8</td>\n",
       "    </tr>\n",
       "  </tbody>\n",
       "</table>\n",
       "<p>9493 rows × 11 columns</p>\n",
       "</div>"
      ],
      "text/plain": [
       "         show_id                                      title  \\\n",
       "0     81193313.0                                  Chocolate   \n",
       "1     81197050.0        Guatemala: Heart of the Mayan World   \n",
       "2     81213894.0                            The Zoya Factor   \n",
       "3     81082007.0                                  Atlantics   \n",
       "4     80213643.0                            Chip and Potato   \n",
       "...          ...                                        ...   \n",
       "9488         NaN                                  Fine Wine   \n",
       "9489         NaN                                C/O Kaadhal   \n",
       "9490         NaN                                    Lokillo   \n",
       "9491         NaN  Dad Stop Embarrassing Me - The Afterparty   \n",
       "9492         NaN         Mighty Little Bheem: Kite Festival   \n",
       "\n",
       "                        director  \\\n",
       "0                            NaN   \n",
       "1     Luis Ara, Ignacio Jaunsolo   \n",
       "2                Abhishek Sharma   \n",
       "3                      Mati Diop   \n",
       "4                            NaN   \n",
       "...                          ...   \n",
       "9488                         NaN   \n",
       "9489                         NaN   \n",
       "9490                         NaN   \n",
       "9491                         NaN   \n",
       "9492                         NaN   \n",
       "\n",
       "                                                   cast  \\\n",
       "0     Ha Ji-won, Yoon Kye-sang, Jang Seung-jo, Kang ...   \n",
       "1                                     Christian Morales   \n",
       "2     Sonam Kapoor, Dulquer Salmaan, Sanjay Kapoor, ...   \n",
       "3     Mama Sane, Amadou Mbow, Ibrahima Traore, Nicol...   \n",
       "4     Abigail Oliver, Andrea Libman, Briana Buckmast...   \n",
       "...                                                 ...   \n",
       "9488                                                NaN   \n",
       "9489                                                NaN   \n",
       "9490                                                NaN   \n",
       "9491                                                NaN   \n",
       "9492                                                NaN   \n",
       "\n",
       "                       country  release_year rating   duration  \\\n",
       "0                  South Korea        2019.0  TV-14   1 Season   \n",
       "1                          NaN        2019.0   TV-G     67 min   \n",
       "2                        India        2019.0  TV-14    135 min   \n",
       "3     France, Senegal, Belgium        2019.0  TV-14    106 min   \n",
       "4       Canada, United Kingdom        2019.0   TV-Y  2 Seasons   \n",
       "...                        ...           ...    ...        ...   \n",
       "9488                       NaN           NaN    NaN        NaN   \n",
       "9489                       NaN           NaN    NaN        NaN   \n",
       "9490                       NaN           NaN    NaN        NaN   \n",
       "9491                       NaN           NaN    NaN        NaN   \n",
       "9492                       NaN           NaN    NaN        NaN   \n",
       "\n",
       "                                                  genre     type  imdb_score  \n",
       "0     International TV Shows, Korean TV Shows, Roman...  TV Show         NaN  \n",
       "1                   Documentaries, International Movies    Movie         6.6  \n",
       "2                Comedies, Dramas, International Movies    Movie         4.3  \n",
       "3      Dramas, Independent Movies, International Movies    Movie         6.7  \n",
       "4                                              Kids' TV  TV Show         6.3  \n",
       "...                                                 ...      ...         ...  \n",
       "9488                                                NaN      NaN         6.8  \n",
       "9489                                                NaN      NaN         7.7  \n",
       "9490                                                NaN      NaN         3.8  \n",
       "9491                                                NaN      NaN         NaN  \n",
       "9492                                                NaN      NaN         7.8  \n",
       "\n",
       "[9493 rows x 11 columns]"
      ]
     },
     "execution_count": 13,
     "metadata": {},
     "output_type": "execute_result"
    }
   ],
   "source": [
    "new_netflix.rename({'listed_in':'genre'}, axis = 1, inplace = True)\n",
    "new_netflix.rename({'type_x':'type'}, axis = 1, inplace = True)\n",
    "new_netflix.rename({'release_year_x':'release_year'}, axis = 1, inplace = True)\n",
    "new_netflix"
   ]
  },
  {
   "cell_type": "markdown",
   "id": "9c096b22-de88-4508-8d86-53a8fb32e2c9",
   "metadata": {},
   "source": [
    "### Detect and Drop Na Values"
   ]
  },
  {
   "cell_type": "code",
   "execution_count": 14,
   "id": "f780cfd5-1898-43a2-a11c-8ec26142ef2a",
   "metadata": {},
   "outputs": [
    {
     "data": {
      "text/plain": [
       "show_id         3616\n",
       "title              1\n",
       "director        5538\n",
       "cast            4172\n",
       "country         4045\n",
       "release_year    3616\n",
       "rating          3626\n",
       "duration        3616\n",
       "genre           3616\n",
       "type            3616\n",
       "imdb_score      4082\n",
       "dtype: int64"
      ]
     },
     "execution_count": 14,
     "metadata": {},
     "output_type": "execute_result"
    }
   ],
   "source": [
    "new_netflix.isnull().sum()"
   ]
  },
  {
   "cell_type": "markdown",
   "id": "aeff2125-e7c3-470a-b3cc-c6aee52286fb",
   "metadata": {},
   "source": [
    "### Drop all null"
   ]
  },
  {
   "cell_type": "code",
   "execution_count": 15,
   "id": "2410ee12-2b45-4724-8e20-71439c760cc0",
   "metadata": {},
   "outputs": [],
   "source": [
    "new_netflix.dropna(inplace=True)"
   ]
  },
  {
   "cell_type": "code",
   "execution_count": 16,
   "id": "8f5ff114-4f24-4049-a5dd-4d54205b82b0",
   "metadata": {},
   "outputs": [
    {
     "data": {
      "text/plain": [
       "show_id         0\n",
       "title           0\n",
       "director        0\n",
       "cast            0\n",
       "country         0\n",
       "release_year    0\n",
       "rating          0\n",
       "duration        0\n",
       "genre           0\n",
       "type            0\n",
       "imdb_score      0\n",
       "dtype: int64"
      ]
     },
     "execution_count": 16,
     "metadata": {},
     "output_type": "execute_result"
    }
   ],
   "source": [
    "new_netflix.isnull().sum()"
   ]
  },
  {
   "cell_type": "markdown",
   "id": "fed6d623-7c73-4af8-95ef-2b06b75e3a0f",
   "metadata": {},
   "source": [
    "## Save cleaned data as csv"
   ]
  },
  {
   "cell_type": "code",
   "execution_count": 17,
   "id": "d533e832-f6a9-4f50-8a3a-181f857decd7",
   "metadata": {},
   "outputs": [],
   "source": [
    "new_netflix.to_csv(\"updated_cleaned_netflix_dataset.csv\", index = False)"
   ]
  },
  {
   "cell_type": "markdown",
   "id": "d487f086-604d-4f50-9fe9-d921a80a7f45",
   "metadata": {},
   "source": [
    "## Exploritory Data"
   ]
  },
  {
   "cell_type": "code",
   "execution_count": 18,
   "id": "1b8ab908-1349-4607-a28f-6ac0326b5081",
   "metadata": {},
   "outputs": [],
   "source": [
    "netflix = pd.read_csv('/Users/kenyashiafernandez/Documents/GitHub/Final-Project/Data/updated_cleaned_netflix_dataset.csv')"
   ]
  },
  {
   "cell_type": "code",
   "execution_count": 19,
   "id": "f41bd742-d162-4c5e-8382-3aebb606785f",
   "metadata": {},
   "outputs": [
    {
     "data": {
      "text/html": [
       "<div>\n",
       "<style scoped>\n",
       "    .dataframe tbody tr th:only-of-type {\n",
       "        vertical-align: middle;\n",
       "    }\n",
       "\n",
       "    .dataframe tbody tr th {\n",
       "        vertical-align: top;\n",
       "    }\n",
       "\n",
       "    .dataframe thead th {\n",
       "        text-align: right;\n",
       "    }\n",
       "</style>\n",
       "<table border=\"1\" class=\"dataframe\">\n",
       "  <thead>\n",
       "    <tr style=\"text-align: right;\">\n",
       "      <th></th>\n",
       "      <th>title</th>\n",
       "      <th>director</th>\n",
       "      <th>cast</th>\n",
       "      <th>country</th>\n",
       "      <th>release_year</th>\n",
       "      <th>rating</th>\n",
       "      <th>duration</th>\n",
       "      <th>genre</th>\n",
       "      <th>type</th>\n",
       "      <th>imdb_score</th>\n",
       "    </tr>\n",
       "  </thead>\n",
       "  <tbody>\n",
       "    <tr>\n",
       "      <th>0</th>\n",
       "      <td>The Zoya Factor</td>\n",
       "      <td>Abhishek Sharma</td>\n",
       "      <td>Sonam Kapoor, Dulquer Salmaan, Sanjay Kapoor, ...</td>\n",
       "      <td>India</td>\n",
       "      <td>2019.0</td>\n",
       "      <td>TV-14</td>\n",
       "      <td>135 min</td>\n",
       "      <td>Comedies, Dramas, International Movies</td>\n",
       "      <td>Movie</td>\n",
       "      <td>4.3</td>\n",
       "    </tr>\n",
       "    <tr>\n",
       "      <th>1</th>\n",
       "      <td>Atlantics</td>\n",
       "      <td>Mati Diop</td>\n",
       "      <td>Mama Sane, Amadou Mbow, Ibrahima Traore, Nicol...</td>\n",
       "      <td>France, Senegal, Belgium</td>\n",
       "      <td>2019.0</td>\n",
       "      <td>TV-14</td>\n",
       "      <td>106 min</td>\n",
       "      <td>Dramas, Independent Movies, International Movies</td>\n",
       "      <td>Movie</td>\n",
       "      <td>6.7</td>\n",
       "    </tr>\n",
       "    <tr>\n",
       "      <th>2</th>\n",
       "      <td>I Lost My Body</td>\n",
       "      <td>Jérémy Clapin</td>\n",
       "      <td>Hakim Faris, Victoire Du Bois, Patrick d'Assum...</td>\n",
       "      <td>France</td>\n",
       "      <td>2019.0</td>\n",
       "      <td>TV-MA</td>\n",
       "      <td>81 min</td>\n",
       "      <td>Dramas, Independent Movies, International Movies</td>\n",
       "      <td>Movie</td>\n",
       "      <td>7.5</td>\n",
       "    </tr>\n",
       "    <tr>\n",
       "      <th>3</th>\n",
       "      <td>Holiday Rush</td>\n",
       "      <td>Leslie Small</td>\n",
       "      <td>Romany Malco, Sonequa Martin-Green, Darlene Lo...</td>\n",
       "      <td>United States</td>\n",
       "      <td>2019.0</td>\n",
       "      <td>TV-PG</td>\n",
       "      <td>94 min</td>\n",
       "      <td>Children &amp; Family Movies, Dramas</td>\n",
       "      <td>Movie</td>\n",
       "      <td>4.9</td>\n",
       "    </tr>\n",
       "    <tr>\n",
       "      <th>4</th>\n",
       "      <td>Evvarikee Cheppoddu</td>\n",
       "      <td>Basava Shankar Eeday</td>\n",
       "      <td>Rakesh Varre, Gargeyi, Vamsi raj Nekkanti, D P...</td>\n",
       "      <td>India</td>\n",
       "      <td>2019.0</td>\n",
       "      <td>TV-14</td>\n",
       "      <td>134 min</td>\n",
       "      <td>Comedies, International Movies, Romantic Movies</td>\n",
       "      <td>Movie</td>\n",
       "      <td>7.2</td>\n",
       "    </tr>\n",
       "    <tr>\n",
       "      <th>...</th>\n",
       "      <td>...</td>\n",
       "      <td>...</td>\n",
       "      <td>...</td>\n",
       "      <td>...</td>\n",
       "      <td>...</td>\n",
       "      <td>...</td>\n",
       "      <td>...</td>\n",
       "      <td>...</td>\n",
       "      <td>...</td>\n",
       "      <td>...</td>\n",
       "    </tr>\n",
       "    <tr>\n",
       "      <th>1135</th>\n",
       "      <td>Quiet Victory: The Charlie Wedemeyer Story</td>\n",
       "      <td>Roy Campanella II</td>\n",
       "      <td>Pam Dawber, Michael Nouri, Bess Meyer, Peter B...</td>\n",
       "      <td>United States</td>\n",
       "      <td>1988.0</td>\n",
       "      <td>TV-PG</td>\n",
       "      <td>93 min</td>\n",
       "      <td>Dramas, Sports Movies</td>\n",
       "      <td>Movie</td>\n",
       "      <td>7.2</td>\n",
       "    </tr>\n",
       "    <tr>\n",
       "      <th>1136</th>\n",
       "      <td>Strange Voices</td>\n",
       "      <td>Arthur Allan Seidelman</td>\n",
       "      <td>Nancy McKeon, Valerie Harper, Stephen Macht, T...</td>\n",
       "      <td>United States</td>\n",
       "      <td>1987.0</td>\n",
       "      <td>NR</td>\n",
       "      <td>96 min</td>\n",
       "      <td>Dramas</td>\n",
       "      <td>Movie</td>\n",
       "      <td>6.3</td>\n",
       "    </tr>\n",
       "    <tr>\n",
       "      <th>1137</th>\n",
       "      <td>The Ryan White Story</td>\n",
       "      <td>John Herzfeld</td>\n",
       "      <td>Judith Light, Lukas Haas, Michael Bowen, Nikki...</td>\n",
       "      <td>United States</td>\n",
       "      <td>1989.0</td>\n",
       "      <td>TV-PG</td>\n",
       "      <td>94 min</td>\n",
       "      <td>Dramas</td>\n",
       "      <td>Movie</td>\n",
       "      <td>7.2</td>\n",
       "    </tr>\n",
       "    <tr>\n",
       "      <th>1138</th>\n",
       "      <td>Unspeakable Acts</td>\n",
       "      <td>Linda Otto</td>\n",
       "      <td>Jill Clayburgh, Brad Davis, Sam Behrens</td>\n",
       "      <td>United States</td>\n",
       "      <td>1990.0</td>\n",
       "      <td>NR</td>\n",
       "      <td>95 min</td>\n",
       "      <td>Dramas</td>\n",
       "      <td>Movie</td>\n",
       "      <td>6.1</td>\n",
       "    </tr>\n",
       "    <tr>\n",
       "      <th>1139</th>\n",
       "      <td>Even the Rain</td>\n",
       "      <td>Icíar Bollaín</td>\n",
       "      <td>Luis Tosar, Gael García Bernal, Juan Carlos Ad...</td>\n",
       "      <td>Spain, Mexico, France</td>\n",
       "      <td>2010.0</td>\n",
       "      <td>NR</td>\n",
       "      <td>103 min</td>\n",
       "      <td>Dramas, International Movies</td>\n",
       "      <td>Movie</td>\n",
       "      <td>7.4</td>\n",
       "    </tr>\n",
       "  </tbody>\n",
       "</table>\n",
       "<p>1140 rows × 10 columns</p>\n",
       "</div>"
      ],
      "text/plain": [
       "                                           title                director  \\\n",
       "0                                The Zoya Factor         Abhishek Sharma   \n",
       "1                                      Atlantics               Mati Diop   \n",
       "2                                 I Lost My Body           Jérémy Clapin   \n",
       "3                                   Holiday Rush            Leslie Small   \n",
       "4                            Evvarikee Cheppoddu    Basava Shankar Eeday   \n",
       "...                                          ...                     ...   \n",
       "1135  Quiet Victory: The Charlie Wedemeyer Story       Roy Campanella II   \n",
       "1136                              Strange Voices  Arthur Allan Seidelman   \n",
       "1137                        The Ryan White Story           John Herzfeld   \n",
       "1138                            Unspeakable Acts              Linda Otto   \n",
       "1139                               Even the Rain           Icíar Bollaín   \n",
       "\n",
       "                                                   cast  \\\n",
       "0     Sonam Kapoor, Dulquer Salmaan, Sanjay Kapoor, ...   \n",
       "1     Mama Sane, Amadou Mbow, Ibrahima Traore, Nicol...   \n",
       "2     Hakim Faris, Victoire Du Bois, Patrick d'Assum...   \n",
       "3     Romany Malco, Sonequa Martin-Green, Darlene Lo...   \n",
       "4     Rakesh Varre, Gargeyi, Vamsi raj Nekkanti, D P...   \n",
       "...                                                 ...   \n",
       "1135  Pam Dawber, Michael Nouri, Bess Meyer, Peter B...   \n",
       "1136  Nancy McKeon, Valerie Harper, Stephen Macht, T...   \n",
       "1137  Judith Light, Lukas Haas, Michael Bowen, Nikki...   \n",
       "1138            Jill Clayburgh, Brad Davis, Sam Behrens   \n",
       "1139  Luis Tosar, Gael García Bernal, Juan Carlos Ad...   \n",
       "\n",
       "                       country  release_year rating duration  \\\n",
       "0                        India        2019.0  TV-14  135 min   \n",
       "1     France, Senegal, Belgium        2019.0  TV-14  106 min   \n",
       "2                       France        2019.0  TV-MA   81 min   \n",
       "3                United States        2019.0  TV-PG   94 min   \n",
       "4                        India        2019.0  TV-14  134 min   \n",
       "...                        ...           ...    ...      ...   \n",
       "1135             United States        1988.0  TV-PG   93 min   \n",
       "1136             United States        1987.0     NR   96 min   \n",
       "1137             United States        1989.0  TV-PG   94 min   \n",
       "1138             United States        1990.0     NR   95 min   \n",
       "1139     Spain, Mexico, France        2010.0     NR  103 min   \n",
       "\n",
       "                                                 genre   type  imdb_score  \n",
       "0               Comedies, Dramas, International Movies  Movie         4.3  \n",
       "1     Dramas, Independent Movies, International Movies  Movie         6.7  \n",
       "2     Dramas, Independent Movies, International Movies  Movie         7.5  \n",
       "3                     Children & Family Movies, Dramas  Movie         4.9  \n",
       "4      Comedies, International Movies, Romantic Movies  Movie         7.2  \n",
       "...                                                ...    ...         ...  \n",
       "1135                             Dramas, Sports Movies  Movie         7.2  \n",
       "1136                                            Dramas  Movie         6.3  \n",
       "1137                                            Dramas  Movie         7.2  \n",
       "1138                                            Dramas  Movie         6.1  \n",
       "1139                      Dramas, International Movies  Movie         7.4  \n",
       "\n",
       "[1140 rows x 10 columns]"
      ]
     },
     "execution_count": 19,
     "metadata": {},
     "output_type": "execute_result"
    }
   ],
   "source": [
    "netflix"
   ]
  },
  {
   "cell_type": "code",
   "execution_count": 20,
   "id": "fea0eac3-71b6-4373-9a97-0a8180917f38",
   "metadata": {},
   "outputs": [],
   "source": [
    "netflix['release_year'] = netflix['release_year'].astype(int)"
   ]
  },
  {
   "cell_type": "code",
   "execution_count": 21,
   "id": "226e0609-98f5-4ad7-af63-64b8a4553a2f",
   "metadata": {},
   "outputs": [
    {
     "name": "stdout",
     "output_type": "stream",
     "text": [
      "<class 'pandas.core.frame.DataFrame'>\n",
      "RangeIndex: 1140 entries, 0 to 1139\n",
      "Data columns (total 10 columns):\n",
      " #   Column        Non-Null Count  Dtype  \n",
      "---  ------        --------------  -----  \n",
      " 0   title         1140 non-null   object \n",
      " 1   director      1140 non-null   object \n",
      " 2   cast          1140 non-null   object \n",
      " 3   country       1140 non-null   object \n",
      " 4   release_year  1140 non-null   int64  \n",
      " 5   rating        1140 non-null   object \n",
      " 6   duration      1140 non-null   object \n",
      " 7   genre         1140 non-null   object \n",
      " 8   type          1140 non-null   object \n",
      " 9   imdb_score    1140 non-null   float64\n",
      "dtypes: float64(1), int64(1), object(8)\n",
      "memory usage: 89.2+ KB\n"
     ]
    }
   ],
   "source": [
    "netflix.info()"
   ]
  },
  {
   "cell_type": "code",
   "execution_count": 22,
   "id": "c0a5dcd7-3b2e-4aae-95ff-0161aaa931aa",
   "metadata": {},
   "outputs": [],
   "source": [
    "netflix.to_csv('netflix_cleaned.csv', index = False)"
   ]
  },
  {
   "cell_type": "code",
   "execution_count": 23,
   "id": "f7f383a3-8c2b-4d54-8116-ede3050fbd2c",
   "metadata": {},
   "outputs": [],
   "source": [
    "netflix_current = pd.read_csv(\"/Users/kenyashiafernandez/Documents/GitHub/Final-Project/Code/netflix_cleaned.csv\")"
   ]
  },
  {
   "cell_type": "code",
   "execution_count": 24,
   "id": "c3a63852-091d-4cc2-88c4-522b050156ea",
   "metadata": {},
   "outputs": [
    {
     "data": {
      "text/html": [
       "<div>\n",
       "<style scoped>\n",
       "    .dataframe tbody tr th:only-of-type {\n",
       "        vertical-align: middle;\n",
       "    }\n",
       "\n",
       "    .dataframe tbody tr th {\n",
       "        vertical-align: top;\n",
       "    }\n",
       "\n",
       "    .dataframe thead th {\n",
       "        text-align: right;\n",
       "    }\n",
       "</style>\n",
       "<table border=\"1\" class=\"dataframe\">\n",
       "  <thead>\n",
       "    <tr style=\"text-align: right;\">\n",
       "      <th></th>\n",
       "      <th>title</th>\n",
       "      <th>director</th>\n",
       "      <th>cast</th>\n",
       "      <th>country</th>\n",
       "      <th>release_year</th>\n",
       "      <th>rating</th>\n",
       "      <th>duration</th>\n",
       "      <th>genre</th>\n",
       "      <th>type</th>\n",
       "      <th>imdb_score</th>\n",
       "    </tr>\n",
       "  </thead>\n",
       "  <tbody>\n",
       "    <tr>\n",
       "      <th>0</th>\n",
       "      <td>The Zoya Factor</td>\n",
       "      <td>Abhishek Sharma</td>\n",
       "      <td>Sonam Kapoor, Dulquer Salmaan, Sanjay Kapoor, ...</td>\n",
       "      <td>India</td>\n",
       "      <td>2019</td>\n",
       "      <td>TV-14</td>\n",
       "      <td>135 min</td>\n",
       "      <td>Comedies, Dramas, International Movies</td>\n",
       "      <td>Movie</td>\n",
       "      <td>4.3</td>\n",
       "    </tr>\n",
       "    <tr>\n",
       "      <th>1</th>\n",
       "      <td>Atlantics</td>\n",
       "      <td>Mati Diop</td>\n",
       "      <td>Mama Sane, Amadou Mbow, Ibrahima Traore, Nicol...</td>\n",
       "      <td>France, Senegal, Belgium</td>\n",
       "      <td>2019</td>\n",
       "      <td>TV-14</td>\n",
       "      <td>106 min</td>\n",
       "      <td>Dramas, Independent Movies, International Movies</td>\n",
       "      <td>Movie</td>\n",
       "      <td>6.7</td>\n",
       "    </tr>\n",
       "    <tr>\n",
       "      <th>2</th>\n",
       "      <td>I Lost My Body</td>\n",
       "      <td>Jérémy Clapin</td>\n",
       "      <td>Hakim Faris, Victoire Du Bois, Patrick d'Assum...</td>\n",
       "      <td>France</td>\n",
       "      <td>2019</td>\n",
       "      <td>TV-MA</td>\n",
       "      <td>81 min</td>\n",
       "      <td>Dramas, Independent Movies, International Movies</td>\n",
       "      <td>Movie</td>\n",
       "      <td>7.5</td>\n",
       "    </tr>\n",
       "  </tbody>\n",
       "</table>\n",
       "</div>"
      ],
      "text/plain": [
       "             title         director  \\\n",
       "0  The Zoya Factor  Abhishek Sharma   \n",
       "1        Atlantics        Mati Diop   \n",
       "2   I Lost My Body    Jérémy Clapin   \n",
       "\n",
       "                                                cast  \\\n",
       "0  Sonam Kapoor, Dulquer Salmaan, Sanjay Kapoor, ...   \n",
       "1  Mama Sane, Amadou Mbow, Ibrahima Traore, Nicol...   \n",
       "2  Hakim Faris, Victoire Du Bois, Patrick d'Assum...   \n",
       "\n",
       "                    country  release_year rating duration  \\\n",
       "0                     India          2019  TV-14  135 min   \n",
       "1  France, Senegal, Belgium          2019  TV-14  106 min   \n",
       "2                    France          2019  TV-MA   81 min   \n",
       "\n",
       "                                              genre   type  imdb_score  \n",
       "0            Comedies, Dramas, International Movies  Movie         4.3  \n",
       "1  Dramas, Independent Movies, International Movies  Movie         6.7  \n",
       "2  Dramas, Independent Movies, International Movies  Movie         7.5  "
      ]
     },
     "execution_count": 24,
     "metadata": {},
     "output_type": "execute_result"
    }
   ],
   "source": [
    "netflix_current.head(3)"
   ]
  },
  {
   "cell_type": "markdown",
   "id": "558ef6a5-2f53-4b3b-a157-65dd29681f84",
   "metadata": {},
   "source": [
    "### Top Countries where Netflix releases Movies/Shows"
   ]
  },
  {
   "cell_type": "code",
   "execution_count": 25,
   "id": "9d861c64-2292-45fc-b0b1-5a4a9d00930a",
   "metadata": {},
   "outputs": [
    {
     "data": {
      "text/plain": [
       "United States                  414\n",
       "India                          236\n",
       "Spain                           38\n",
       "Philippines                     33\n",
       "France                          20\n",
       "                              ... \n",
       "Bangladesh                       1\n",
       "New Zealand                      1\n",
       "United States, Spain, Italy      1\n",
       "United Kingdom, Malawi           1\n",
       "Spain, Mexico, France            1\n",
       "Name: country, Length: 172, dtype: int64"
      ]
     },
     "execution_count": 25,
     "metadata": {},
     "output_type": "execute_result"
    }
   ],
   "source": [
    "netflix_current.country.value_counts()"
   ]
  },
  {
   "cell_type": "code",
   "execution_count": 26,
   "id": "7436b617-0c94-4231-8b49-c23a61f72adc",
   "metadata": {},
   "outputs": [
    {
     "data": {
      "text/plain": [
       "False    647\n",
       "True     493\n",
       "Name: country, dtype: int64"
      ]
     },
     "execution_count": 26,
     "metadata": {},
     "output_type": "execute_result"
    }
   ],
   "source": [
    "#United states has the most release at 493\n",
    "netflix_current.country.str.contains('United States').value_counts()"
   ]
  },
  {
   "cell_type": "code",
   "execution_count": 27,
   "id": "a8949f61-1f25-4bac-abfa-a2751d116974",
   "metadata": {},
   "outputs": [
    {
     "data": {
      "text/plain": [
       "False    893\n",
       "True     247\n",
       "Name: country, dtype: int64"
      ]
     },
     "execution_count": 27,
     "metadata": {},
     "output_type": "execute_result"
    }
   ],
   "source": [
    "netflix_current.country.str.contains('India').value_counts()"
   ]
  },
  {
   "cell_type": "code",
   "execution_count": 28,
   "id": "943ac751-96c2-4f65-a3fa-1bbcb7805bd8",
   "metadata": {},
   "outputs": [
    {
     "data": {
      "text/plain": [
       "False    1081\n",
       "True       59\n",
       "Name: country, dtype: int64"
      ]
     },
     "execution_count": 28,
     "metadata": {},
     "output_type": "execute_result"
    }
   ],
   "source": [
    "netflix_current.country.str.contains('United Kingdom').value_counts()"
   ]
  },
  {
   "cell_type": "code",
   "execution_count": 29,
   "id": "f1268092-8eaa-42d4-8f93-633171c47341",
   "metadata": {},
   "outputs": [
    {
     "data": {
      "text/plain": [
       "False    1094\n",
       "True       46\n",
       "Name: country, dtype: int64"
      ]
     },
     "execution_count": 29,
     "metadata": {},
     "output_type": "execute_result"
    }
   ],
   "source": [
    "netflix_current.country.str.contains('Canada').value_counts()"
   ]
  },
  {
   "cell_type": "markdown",
   "id": "98622e45-420b-46df-97b4-4c877a051586",
   "metadata": {},
   "source": [
    "### How many Movies vs Tv Shows?"
   ]
  },
  {
   "cell_type": "code",
   "execution_count": 30,
   "id": "c9d3f77a-e744-4bd5-84a9-9521554353f3",
   "metadata": {},
   "outputs": [
    {
     "data": {
      "text/plain": [
       "Movie      1115\n",
       "TV Show      25\n",
       "Name: type, dtype: int64"
      ]
     },
     "execution_count": 30,
     "metadata": {},
     "output_type": "execute_result"
    }
   ],
   "source": [
    "netflix_current['type'].value_counts()\n",
    "#Netflix releases more movies than tv shows"
   ]
  },
  {
   "cell_type": "markdown",
   "id": "75fd19b7-ae2d-463d-999a-c2ef3a3605ad",
   "metadata": {},
   "source": [
    "### What are the Top genres"
   ]
  },
  {
   "cell_type": "code",
   "execution_count": 31,
   "id": "5cf9cf1e-cc5d-4545-a03e-fe2dfd018765",
   "metadata": {},
   "outputs": [
    {
     "data": {
      "text/plain": [
       "Stand-Up Comedy                                                   155\n",
       "Comedies, Dramas, International Movies                             66\n",
       "Dramas, International Movies                                       65\n",
       "Dramas, Independent Movies, International Movies                   55\n",
       "Dramas, International Movies, Thrillers                            41\n",
       "                                                                 ... \n",
       "Documentaries, Faith & Spirituality, International Movies           1\n",
       "Dramas, Sci-Fi & Fantasy                                            1\n",
       "International TV Shows, Korean TV Shows, TV Action & Adventure      1\n",
       "Comedies, Dramas, Romantic Movies                                   1\n",
       "Children & Family Movies, Classic Movies, Comedies                  1\n",
       "Name: genre, Length: 151, dtype: int64"
      ]
     },
     "execution_count": 31,
     "metadata": {},
     "output_type": "execute_result"
    }
   ],
   "source": [
    "netflix_current.genre.value_counts()"
   ]
  },
  {
   "cell_type": "markdown",
   "id": "938a13f6-9892-4c92-be5d-8f192691d68f",
   "metadata": {},
   "source": [
    "#### The top movies and shows are those categorized under the following:\n",
    "Dramas, International Movies| Stand-Up Comedy | Dramas, Independent Movies, International Movies | Comedies, Dramas, International Movies | Documentaries                                               "
   ]
  },
  {
   "cell_type": "code",
   "execution_count": 32,
   "id": "75696835-7772-4da8-a16b-2eb70d7fadde",
   "metadata": {},
   "outputs": [
    {
     "data": {
      "text/plain": [
       "False    581\n",
       "True     559\n",
       "Name: genre, dtype: int64"
      ]
     },
     "execution_count": 32,
     "metadata": {},
     "output_type": "execute_result"
    }
   ],
   "source": [
    "netflix_current.genre.str.contains('International Movies').value_counts()"
   ]
  },
  {
   "cell_type": "code",
   "execution_count": 33,
   "id": "e4df7fae-1b7c-44d5-8ab5-eeb58bad5c4c",
   "metadata": {},
   "outputs": [
    {
     "data": {
      "text/plain": [
       "False    641\n",
       "True     499\n",
       "Name: genre, dtype: int64"
      ]
     },
     "execution_count": 33,
     "metadata": {},
     "output_type": "execute_result"
    }
   ],
   "source": [
    "netflix_current.genre.str.contains('Dramas').value_counts()"
   ]
  },
  {
   "cell_type": "code",
   "execution_count": 34,
   "id": "429dc6f5-38b3-4429-b4c8-fa03f918ab21",
   "metadata": {},
   "outputs": [
    {
     "data": {
      "text/plain": [
       "False    801\n",
       "True     339\n",
       "Name: genre, dtype: int64"
      ]
     },
     "execution_count": 34,
     "metadata": {},
     "output_type": "execute_result"
    }
   ],
   "source": [
    "netflix_current.genre.str.contains('Comedies').value_counts()"
   ]
  },
  {
   "cell_type": "code",
   "execution_count": 35,
   "id": "fb56ea3d-7ebd-4176-ba40-33762dbdf969",
   "metadata": {},
   "outputs": [
    {
     "data": {
      "text/plain": [
       "False    978\n",
       "True     162\n",
       "Name: genre, dtype: int64"
      ]
     },
     "execution_count": 35,
     "metadata": {},
     "output_type": "execute_result"
    }
   ],
   "source": [
    "netflix_current.genre.str.contains('Stand-Up Comedy').value_counts()"
   ]
  },
  {
   "cell_type": "code",
   "execution_count": 36,
   "id": "4468697a-cc33-477a-9a0f-ac5127692967",
   "metadata": {},
   "outputs": [
    {
     "data": {
      "text/plain": [
       "False    981\n",
       "True     159\n",
       "Name: genre, dtype: int64"
      ]
     },
     "execution_count": 36,
     "metadata": {},
     "output_type": "execute_result"
    }
   ],
   "source": [
    "netflix_current.genre.str.contains('Action & Adventure').value_counts()"
   ]
  },
  {
   "cell_type": "code",
   "execution_count": 37,
   "id": "cca81ef4-f31c-4dd0-823c-39d5578af917",
   "metadata": {},
   "outputs": [
    {
     "data": {
      "text/plain": [
       "False    1078\n",
       "True       62\n",
       "Name: genre, dtype: int64"
      ]
     },
     "execution_count": 37,
     "metadata": {},
     "output_type": "execute_result"
    }
   ],
   "source": [
    "netflix_current.genre.str.contains('Children & Family Movies').value_counts()"
   ]
  },
  {
   "cell_type": "code",
   "execution_count": 38,
   "id": "83330663-ec86-4934-b8cb-a1fd2ecb1041",
   "metadata": {},
   "outputs": [
    {
     "data": {
      "text/plain": [
       "False    1080\n",
       "True       60\n",
       "Name: genre, dtype: int64"
      ]
     },
     "execution_count": 38,
     "metadata": {},
     "output_type": "execute_result"
    }
   ],
   "source": [
    "netflix_current.genre.str.contains('Documentaries').value_counts()"
   ]
  },
  {
   "cell_type": "markdown",
   "id": "6490a604-b869-4f7e-a154-9b7895077ab3",
   "metadata": {},
   "source": [
    "### Rating Counts"
   ]
  },
  {
   "cell_type": "code",
   "execution_count": 39,
   "id": "82c995a0-056f-44d1-889c-3e98b0f7e56f",
   "metadata": {},
   "outputs": [
    {
     "data": {
      "text/plain": [
       "Text(0, 0.5, 'Count')"
      ]
     },
     "execution_count": 39,
     "metadata": {},
     "output_type": "execute_result"
    },
    {
     "data": {
      "image/png": "[encoded data removed]",
      "text/plain": [
       "<Figure size 432x288 with 1 Axes>"
      ]
     },
     "metadata": {
      "needs_background": "light"
     },
     "output_type": "display_data"
    }
   ],
   "source": [
    "netflix_current['rating'].value_counts().plot(kind='bar')\n",
    "netflix_current = netflix_current['rating'].value_counts().plot(kind='bar')\n",
    "netflix_current.set_title(\"Movie/Show Ratings\")\n",
    "netflix_current.set_xlabel(\"Ratings\")\n",
    "netflix_current.set_ylabel(\"Count\")"
   ]
  },
  {
   "cell_type": "markdown",
   "id": "e3c2728e-e209-4787-85d4-b0e532de8e1b",
   "metadata": {},
   "source": [
    "### Relationship analsis"
   ]
  },
  {
   "cell_type": "code",
   "execution_count": 40,
   "id": "cbcd014b-47f8-45a2-aaa7-fb4a11ccf960",
   "metadata": {},
   "outputs": [
    {
     "data": {
      "text/plain": [
       "<seaborn.axisgrid.PairGrid at 0x179b0d250>"
      ]
     },
     "execution_count": 40,
     "metadata": {},
     "output_type": "execute_result"
    },
    {
     "data": {
      "image/png": "[encoded data removed]",
      "text/plain": [
       "<Figure size 438.75x360 with 6 Axes>"
      ]
     },
     "metadata": {
      "needs_background": "light"
     },
     "output_type": "display_data"
    }
   ],
   "source": [
    "sns.pairplot(netflix, hue = 'type')"
   ]
  },
  {
   "cell_type": "code",
   "execution_count": 41,
   "id": "0ed8c27a-8c73-4557-9dc3-953bebb81c6a",
   "metadata": {},
   "outputs": [
    {
     "data": {
      "text/plain": [
       "<seaborn.axisgrid.FacetGrid at 0x179d802b0>"
      ]
     },
     "execution_count": 41,
     "metadata": {},
     "output_type": "execute_result"
    },
    {
     "data": {
      "image/png": "[encoded data removed]",
      "text/plain": [
       "<Figure size 438.75x360 with 1 Axes>"
      ]
     },
     "metadata": {
      "needs_background": "light"
     },
     "output_type": "display_data"
    }
   ],
   "source": [
    "sns.relplot(x='release_year',y='imdb_score',hue='type',data=netflix)"
   ]
  },
  {
   "cell_type": "code",
   "execution_count": 42,
   "id": "59f12112-438e-4e90-a18a-c92b45f91963",
   "metadata": {},
   "outputs": [
    {
     "name": "stderr",
     "output_type": "stream",
     "text": [
      "/var/folders/7y/95y2flc95xd_kqlcm2mtqjp00000gn/T/ipykernel_20291/687754911.py:1: UserWarning: \n",
      "\n",
      "`distplot` is a deprecated function and will be removed in seaborn v0.14.0.\n",
      "\n",
      "Please adapt your code to use either `displot` (a figure-level function with\n",
      "similar flexibility) or `histplot` (an axes-level function for histograms).\n",
      "\n",
      "For a guide to updating your code to use the new functions, please see\n",
      "https://gist.github.com/mwaskom/de44147ed2974457ad6372750bbe5751\n",
      "\n",
      "  sns.distplot(netflix['release_year'])\n"
     ]
    },
    {
     "data": {
      "text/plain": [
       "<AxesSubplot:xlabel='release_year', ylabel='Density'>"
      ]
     },
     "execution_count": 42,
     "metadata": {},
     "output_type": "execute_result"
    },
    {
     "data": {
      "image/png": "[encoded data removed]",
      "text/plain": [
       "<Figure size 432x288 with 1 Axes>"
      ]
     },
     "metadata": {
      "needs_background": "light"
     },
     "output_type": "display_data"
    }
   ],
   "source": [
    "sns.distplot(netflix['release_year'])"
   ]
  },
  {
   "cell_type": "markdown",
   "id": "b2328ce8-c9bd-4fae-9e0b-af72a84f01b6",
   "metadata": {},
   "source": [
    "### Top Directors "
   ]
  },
  {
   "cell_type": "code",
   "execution_count": 43,
   "id": "0343d560-5612-4d92-868e-07d96ec65ee4",
   "metadata": {},
   "outputs": [
    {
     "data": {
      "text/plain": [
       "Raúl Campos, Jan Suter    12\n",
       "Marcus Raboy              10\n",
       "Jay Chapman               10\n",
       "Jay Karas                 10\n",
       "Ryan Polito                7\n",
       "                          ..\n",
       "Noor Imran Mithu           1\n",
       "Ísold Uggadóttir           1\n",
       "Genevieve Nnaji            1\n",
       "Wim Wenders                1\n",
       "Icíar Bollaín              1\n",
       "Name: director, Length: 928, dtype: int64"
      ]
     },
     "execution_count": 43,
     "metadata": {},
     "output_type": "execute_result"
    }
   ],
   "source": [
    "netflix.director.value_counts()"
   ]
  },
  {
   "cell_type": "markdown",
   "id": "72d8334c-d296-4ea0-a4e5-32a68d13f971",
   "metadata": {},
   "source": [
    "### Average imdb scores through the years"
   ]
  },
  {
   "cell_type": "code",
   "execution_count": 44,
   "id": "d47b6b64-ab48-430e-8aa3-c1dc00d73c57",
   "metadata": {},
   "outputs": [
    {
     "data": {
      "text/plain": [
       "release_year\n",
       "1946    7.300000\n",
       "1954    7.500000\n",
       "1959    6.600000\n",
       "1960    6.400000\n",
       "1973    5.100000\n",
       "1974    6.333333\n",
       "1975    8.200000\n",
       "1976    7.100000\n",
       "1978    4.400000\n",
       "1979    8.100000\n",
       "1980    6.200000\n",
       "1983    6.300000\n",
       "1984    6.150000\n",
       "1986    6.340000\n",
       "1987    6.750000\n",
       "1988    6.066667\n",
       "1989    6.900000\n",
       "1990    5.933333\n",
       "1991    5.800000\n",
       "1993    8.500000\n",
       "1996    6.600000\n",
       "1997    5.750000\n",
       "1998    7.900000\n",
       "2000    6.820000\n",
       "2001    7.050000\n",
       "2003    6.025000\n",
       "2004    6.837500\n",
       "2005    6.314286\n",
       "2006    7.136364\n",
       "2007    6.320000\n",
       "2008    7.047368\n",
       "2009    6.365000\n",
       "2010    6.815789\n",
       "2011    6.266667\n",
       "2012    6.242424\n",
       "2013    6.212903\n",
       "2014    6.473171\n",
       "2015    6.392647\n",
       "2016    6.313846\n",
       "2017    6.160633\n",
       "2018    6.179323\n",
       "2019    6.082514\n",
       "Name: imdb_score, dtype: float64"
      ]
     },
     "execution_count": 44,
     "metadata": {},
     "output_type": "execute_result"
    }
   ],
   "source": [
    "netflix.groupby(['release_year'])['imdb_score'].mean()"
   ]
  },
  {
   "cell_type": "code",
   "execution_count": 45,
   "id": "8a5b9db4-1b26-4b7f-b396-4f75e62ae1e0",
   "metadata": {},
   "outputs": [
    {
     "data": {
      "text/plain": [
       "release_year  type   \n",
       "1946          Movie      7.300000\n",
       "1954          Movie      7.500000\n",
       "1959          Movie      6.600000\n",
       "1960          Movie      6.400000\n",
       "1973          Movie      5.100000\n",
       "1974          Movie      6.333333\n",
       "1975          Movie      8.200000\n",
       "1976          Movie      7.100000\n",
       "1978          Movie      4.400000\n",
       "1979          Movie      8.100000\n",
       "1980          Movie      6.200000\n",
       "1983          Movie      6.300000\n",
       "1984          Movie      6.150000\n",
       "1986          Movie      6.340000\n",
       "1987          Movie      6.750000\n",
       "1988          Movie      6.066667\n",
       "1989          Movie      6.900000\n",
       "1990          Movie      5.933333\n",
       "1991          Movie      5.800000\n",
       "1993          Movie      8.500000\n",
       "1996          Movie      6.600000\n",
       "1997          Movie      5.750000\n",
       "1998          Movie      7.900000\n",
       "2000          Movie      6.820000\n",
       "2001          Movie      7.050000\n",
       "2003          Movie      6.025000\n",
       "2004          Movie      6.837500\n",
       "2005          Movie      6.314286\n",
       "2006          Movie      7.030000\n",
       "              TV Show    8.200000\n",
       "2007          Movie      6.320000\n",
       "2008          Movie      7.047368\n",
       "2009          Movie      6.365000\n",
       "2010          Movie      6.815789\n",
       "2011          Movie      6.266667\n",
       "2012          Movie      6.242424\n",
       "2013          Movie      6.212903\n",
       "2014          Movie      6.450000\n",
       "              TV Show    7.400000\n",
       "2015          Movie      6.379104\n",
       "              TV Show    7.300000\n",
       "2016          Movie      6.313846\n",
       "2017          Movie      6.115741\n",
       "              TV Show    8.100000\n",
       "2018          Movie      6.127451\n",
       "              TV Show    7.381818\n",
       "2019          Movie      6.057627\n",
       "              TV Show    6.816667\n",
       "Name: imdb_score, dtype: float64"
      ]
     },
     "execution_count": 45,
     "metadata": {},
     "output_type": "execute_result"
    }
   ],
   "source": [
    "netflix.groupby(['release_year', 'type'])['imdb_score'].mean()"
   ]
  },
  {
   "cell_type": "code",
   "execution_count": 46,
   "id": "892926d9-9ed9-4f7c-9dc2-7fa1190901d0",
   "metadata": {},
   "outputs": [],
   "source": [
    "### It appears that Tv shows on average have higher imdb scores than the Movies"
   ]
  },
  {
   "cell_type": "code",
   "execution_count": 47,
   "id": "6ffb69bb-0e13-4d29-9a22-11b2ff241dca",
   "metadata": {},
   "outputs": [
    {
     "data": {
      "text/plain": [
       "type\n",
       "Movie      6.238027\n",
       "TV Show    7.420000\n",
       "Name: imdb_score, dtype: float64"
      ]
     },
     "execution_count": 47,
     "metadata": {},
     "output_type": "execute_result"
    }
   ],
   "source": [
    "netflix.groupby(['type'])['imdb_score'].mean()"
   ]
  },
  {
   "cell_type": "markdown",
   "id": "f3e70a7f-a644-4377-be63-9275b7620561",
   "metadata": {},
   "source": [
    "## Q1 Do ratings affect imdb score?"
   ]
  },
  {
   "cell_type": "markdown",
   "id": "f3929f57-8785-4199-a986-0c2924ad3b83",
   "metadata": {},
   "source": [
    "## One Way Between Subjects ANOVA"
   ]
  },
  {
   "cell_type": "markdown",
   "id": "5f16f864-155c-484f-a310-23c5c4c95255",
   "metadata": {},
   "source": [
    "### Import additional packages "
   ]
  },
  {
   "cell_type": "code",
   "execution_count": 48,
   "id": "3ade20f4-dd33-4e83-8976-9300b5885979",
   "metadata": {},
   "outputs": [],
   "source": [
    "from statsmodels.stats.multicomp import pairwise_tukeyhsd\n",
    "from statsmodels.stats.multicomp import MultiComparison"
   ]
  },
  {
   "cell_type": "markdown",
   "id": "f3833fca-8d39-4ced-be74-f425f1364bf7",
   "metadata": {},
   "source": [
    "### Load data"
   ]
  },
  {
   "cell_type": "code",
   "execution_count": 49,
   "id": "dacef190-f860-4436-8627-bc51a163d728",
   "metadata": {},
   "outputs": [
    {
     "data": {
      "text/html": [
       "<div>\n",
       "<style scoped>\n",
       "    .dataframe tbody tr th:only-of-type {\n",
       "        vertical-align: middle;\n",
       "    }\n",
       "\n",
       "    .dataframe tbody tr th {\n",
       "        vertical-align: top;\n",
       "    }\n",
       "\n",
       "    .dataframe thead th {\n",
       "        text-align: right;\n",
       "    }\n",
       "</style>\n",
       "<table border=\"1\" class=\"dataframe\">\n",
       "  <thead>\n",
       "    <tr style=\"text-align: right;\">\n",
       "      <th></th>\n",
       "      <th>title</th>\n",
       "      <th>director</th>\n",
       "      <th>cast</th>\n",
       "      <th>country</th>\n",
       "      <th>release_year</th>\n",
       "      <th>rating</th>\n",
       "      <th>duration</th>\n",
       "      <th>genre</th>\n",
       "      <th>type</th>\n",
       "      <th>imdb_score</th>\n",
       "    </tr>\n",
       "  </thead>\n",
       "  <tbody>\n",
       "    <tr>\n",
       "      <th>0</th>\n",
       "      <td>The Zoya Factor</td>\n",
       "      <td>Abhishek Sharma</td>\n",
       "      <td>Sonam Kapoor, Dulquer Salmaan, Sanjay Kapoor, ...</td>\n",
       "      <td>India</td>\n",
       "      <td>2019</td>\n",
       "      <td>TV-14</td>\n",
       "      <td>135 min</td>\n",
       "      <td>Comedies, Dramas, International Movies</td>\n",
       "      <td>Movie</td>\n",
       "      <td>4.3</td>\n",
       "    </tr>\n",
       "    <tr>\n",
       "      <th>1</th>\n",
       "      <td>Atlantics</td>\n",
       "      <td>Mati Diop</td>\n",
       "      <td>Mama Sane, Amadou Mbow, Ibrahima Traore, Nicol...</td>\n",
       "      <td>France, Senegal, Belgium</td>\n",
       "      <td>2019</td>\n",
       "      <td>TV-14</td>\n",
       "      <td>106 min</td>\n",
       "      <td>Dramas, Independent Movies, International Movies</td>\n",
       "      <td>Movie</td>\n",
       "      <td>6.7</td>\n",
       "    </tr>\n",
       "    <tr>\n",
       "      <th>2</th>\n",
       "      <td>I Lost My Body</td>\n",
       "      <td>Jérémy Clapin</td>\n",
       "      <td>Hakim Faris, Victoire Du Bois, Patrick d'Assum...</td>\n",
       "      <td>France</td>\n",
       "      <td>2019</td>\n",
       "      <td>TV-MA</td>\n",
       "      <td>81 min</td>\n",
       "      <td>Dramas, Independent Movies, International Movies</td>\n",
       "      <td>Movie</td>\n",
       "      <td>7.5</td>\n",
       "    </tr>\n",
       "    <tr>\n",
       "      <th>3</th>\n",
       "      <td>Holiday Rush</td>\n",
       "      <td>Leslie Small</td>\n",
       "      <td>Romany Malco, Sonequa Martin-Green, Darlene Lo...</td>\n",
       "      <td>United States</td>\n",
       "      <td>2019</td>\n",
       "      <td>TV-PG</td>\n",
       "      <td>94 min</td>\n",
       "      <td>Children &amp; Family Movies, Dramas</td>\n",
       "      <td>Movie</td>\n",
       "      <td>4.9</td>\n",
       "    </tr>\n",
       "    <tr>\n",
       "      <th>4</th>\n",
       "      <td>Evvarikee Cheppoddu</td>\n",
       "      <td>Basava Shankar Eeday</td>\n",
       "      <td>Rakesh Varre, Gargeyi, Vamsi raj Nekkanti, D P...</td>\n",
       "      <td>India</td>\n",
       "      <td>2019</td>\n",
       "      <td>TV-14</td>\n",
       "      <td>134 min</td>\n",
       "      <td>Comedies, International Movies, Romantic Movies</td>\n",
       "      <td>Movie</td>\n",
       "      <td>7.2</td>\n",
       "    </tr>\n",
       "  </tbody>\n",
       "</table>\n",
       "</div>"
      ],
      "text/plain": [
       "                 title              director  \\\n",
       "0      The Zoya Factor       Abhishek Sharma   \n",
       "1            Atlantics             Mati Diop   \n",
       "2       I Lost My Body         Jérémy Clapin   \n",
       "3         Holiday Rush          Leslie Small   \n",
       "4  Evvarikee Cheppoddu  Basava Shankar Eeday   \n",
       "\n",
       "                                                cast  \\\n",
       "0  Sonam Kapoor, Dulquer Salmaan, Sanjay Kapoor, ...   \n",
       "1  Mama Sane, Amadou Mbow, Ibrahima Traore, Nicol...   \n",
       "2  Hakim Faris, Victoire Du Bois, Patrick d'Assum...   \n",
       "3  Romany Malco, Sonequa Martin-Green, Darlene Lo...   \n",
       "4  Rakesh Varre, Gargeyi, Vamsi raj Nekkanti, D P...   \n",
       "\n",
       "                    country  release_year rating duration  \\\n",
       "0                     India          2019  TV-14  135 min   \n",
       "1  France, Senegal, Belgium          2019  TV-14  106 min   \n",
       "2                    France          2019  TV-MA   81 min   \n",
       "3             United States          2019  TV-PG   94 min   \n",
       "4                     India          2019  TV-14  134 min   \n",
       "\n",
       "                                              genre   type  imdb_score  \n",
       "0            Comedies, Dramas, International Movies  Movie         4.3  \n",
       "1  Dramas, Independent Movies, International Movies  Movie         6.7  \n",
       "2  Dramas, Independent Movies, International Movies  Movie         7.5  \n",
       "3                  Children & Family Movies, Dramas  Movie         4.9  \n",
       "4   Comedies, International Movies, Romantic Movies  Movie         7.2  "
      ]
     },
     "execution_count": 49,
     "metadata": {},
     "output_type": "execute_result"
    }
   ],
   "source": [
    "netflix.head()"
   ]
  },
  {
   "cell_type": "markdown",
   "id": "ab914838-46cf-405d-80de-4f13bc028110",
   "metadata": {},
   "source": [
    "### Data Wrangling"
   ]
  },
  {
   "cell_type": "markdown",
   "id": "9756f16d-1632-4732-9bc1-a00c1e847364",
   "metadata": {},
   "source": [
    "#### Only keep 2 variables interested in "
   ]
  },
  {
   "cell_type": "code",
   "execution_count": 50,
   "id": "e6d9e738-9f14-456c-b64a-be23cdf9fe14",
   "metadata": {},
   "outputs": [],
   "source": [
    "netflix1 = netflix[['imdb_score', 'rating']]"
   ]
  },
  {
   "cell_type": "markdown",
   "id": "6512de8d-8f81-4ad1-87ec-b4fc8b78086b",
   "metadata": {},
   "source": [
    "#### Recode IV to numeric"
   ]
  },
  {
   "cell_type": "code",
   "execution_count": 51,
   "id": "f5de9b1c-ce1a-4b0b-b27b-ba9f47f74ba4",
   "metadata": {},
   "outputs": [
    {
     "data": {
      "text/plain": [
       "TV-MA       550\n",
       "TV-14       285\n",
       "TV-PG        98\n",
       "R            82\n",
       "NR           38\n",
       "PG-13        36\n",
       "PG           20\n",
       "TV-G         11\n",
       "TV-Y7         7\n",
       "TV-Y          4\n",
       "UR            4\n",
       "TV-Y7-FV      3\n",
       "G             2\n",
       "Name: rating, dtype: int64"
      ]
     },
     "execution_count": 51,
     "metadata": {},
     "output_type": "execute_result"
    }
   ],
   "source": [
    "netflix1.rating.value_counts()"
   ]
  },
  {
   "cell_type": "code",
   "execution_count": 52,
   "id": "18724fe9-5372-45a6-9461-a65757acc4d1",
   "metadata": {},
   "outputs": [
    {
     "name": "stderr",
     "output_type": "stream",
     "text": [
      "/var/folders/7y/95y2flc95xd_kqlcm2mtqjp00000gn/T/ipykernel_20291/2919202148.py:29: SettingWithCopyWarning: \n",
      "A value is trying to be set on a copy of a slice from a DataFrame.\n",
      "Try using .loc[row_indexer,col_indexer] = value instead\n",
      "\n",
      "See the caveats in the documentation: https://pandas.pydata.org/pandas-docs/stable/user_guide/indexing.html#returning-a-view-versus-a-copy\n",
      "  netflix1[\"ratingR\"] = netflix1[\"rating\"].apply(recode)\n"
     ]
    }
   ],
   "source": [
    "def recode(series):\n",
    "    if series == \"TV-MA\":\n",
    "        return 0\n",
    "    if series == \"TV-14\": \n",
    "        return 1\n",
    "    if series == \"TV-PG\": \n",
    "        return 2\n",
    "    if series == \"R\": \n",
    "        return 3\n",
    "    if series == \"NR\":\n",
    "        return 4\n",
    "    if series == \"PG-13\": \n",
    "        return 5\n",
    "    if series == \"PG\": \n",
    "        return 6\n",
    "    if series == \"TV-G\": \n",
    "        return 7\n",
    "    if series == \"TV-Y7\":\n",
    "        return 8\n",
    "    if series == \"TV-Y\": \n",
    "        return 9\n",
    "    if series == \"UR\": \n",
    "        return 10\n",
    "    if series == \"TV-Y7-FV\": \n",
    "        return 11\n",
    "    if series == \"G\":\n",
    "        return 12\n",
    " \n",
    "netflix1[\"ratingR\"] = netflix1[\"rating\"].apply(recode)"
   ]
  },
  {
   "cell_type": "code",
   "execution_count": 53,
   "id": "6dd17f67-b174-4f77-8211-2182c936117b",
   "metadata": {},
   "outputs": [
    {
     "data": {
      "text/html": [
       "<div>\n",
       "<style scoped>\n",
       "    .dataframe tbody tr th:only-of-type {\n",
       "        vertical-align: middle;\n",
       "    }\n",
       "\n",
       "    .dataframe tbody tr th {\n",
       "        vertical-align: top;\n",
       "    }\n",
       "\n",
       "    .dataframe thead th {\n",
       "        text-align: right;\n",
       "    }\n",
       "</style>\n",
       "<table border=\"1\" class=\"dataframe\">\n",
       "  <thead>\n",
       "    <tr style=\"text-align: right;\">\n",
       "      <th></th>\n",
       "      <th>imdb_score</th>\n",
       "      <th>rating</th>\n",
       "      <th>ratingR</th>\n",
       "    </tr>\n",
       "  </thead>\n",
       "  <tbody>\n",
       "    <tr>\n",
       "      <th>0</th>\n",
       "      <td>4.3</td>\n",
       "      <td>TV-14</td>\n",
       "      <td>1</td>\n",
       "    </tr>\n",
       "    <tr>\n",
       "      <th>1</th>\n",
       "      <td>6.7</td>\n",
       "      <td>TV-14</td>\n",
       "      <td>1</td>\n",
       "    </tr>\n",
       "    <tr>\n",
       "      <th>2</th>\n",
       "      <td>7.5</td>\n",
       "      <td>TV-MA</td>\n",
       "      <td>0</td>\n",
       "    </tr>\n",
       "    <tr>\n",
       "      <th>3</th>\n",
       "      <td>4.9</td>\n",
       "      <td>TV-PG</td>\n",
       "      <td>2</td>\n",
       "    </tr>\n",
       "    <tr>\n",
       "      <th>4</th>\n",
       "      <td>7.2</td>\n",
       "      <td>TV-14</td>\n",
       "      <td>1</td>\n",
       "    </tr>\n",
       "  </tbody>\n",
       "</table>\n",
       "</div>"
      ],
      "text/plain": [
       "   imdb_score rating  ratingR\n",
       "0         4.3  TV-14        1\n",
       "1         6.7  TV-14        1\n",
       "2         7.5  TV-MA        0\n",
       "3         4.9  TV-PG        2\n",
       "4         7.2  TV-14        1"
      ]
     },
     "execution_count": 53,
     "metadata": {},
     "output_type": "execute_result"
    }
   ],
   "source": [
    "netflix1.head()"
   ]
  },
  {
   "cell_type": "markdown",
   "id": "59fabddf-f7db-45bc-b01e-006e6966243c",
   "metadata": {},
   "source": [
    "### Test Assumptions"
   ]
  },
  {
   "cell_type": "markdown",
   "id": "8d1fd912-d900-4729-a82d-6e3b9079f5da",
   "metadata": {},
   "source": [
    "#### Normailty"
   ]
  },
  {
   "cell_type": "code",
   "execution_count": 54,
   "id": "07abedb7-e841-409c-a6e9-952863f03684",
   "metadata": {},
   "outputs": [
    {
     "name": "stderr",
     "output_type": "stream",
     "text": [
      "/var/folders/7y/95y2flc95xd_kqlcm2mtqjp00000gn/T/ipykernel_20291/893475539.py:1: UserWarning: \n",
      "\n",
      "`distplot` is a deprecated function and will be removed in seaborn v0.14.0.\n",
      "\n",
      "Please adapt your code to use either `displot` (a figure-level function with\n",
      "similar flexibility) or `histplot` (an axes-level function for histograms).\n",
      "\n",
      "For a guide to updating your code to use the new functions, please see\n",
      "https://gist.github.com/mwaskom/de44147ed2974457ad6372750bbe5751\n",
      "\n",
      "  sns.distplot(netflix1['imdb_score'])\n"
     ]
    },
    {
     "data": {
      "text/plain": [
       "<AxesSubplot:xlabel='imdb_score', ylabel='Density'>"
      ]
     },
     "execution_count": 54,
     "metadata": {},
     "output_type": "execute_result"
    },
    {
     "data": {
      "image/png": "[encoded data removed]",
      "text/plain": [
       "<Figure size 432x288 with 1 Axes>"
      ]
     },
     "metadata": {
      "needs_background": "light"
     },
     "output_type": "display_data"
    }
   ],
   "source": [
    "sns.distplot(netflix1['imdb_score'])"
   ]
  },
  {
   "cell_type": "code",
   "execution_count": 55,
   "id": "50d4da87-526c-4245-a015-03762ebd8cae",
   "metadata": {},
   "outputs": [],
   "source": [
    "## This is pretty clearly normally distributed"
   ]
  },
  {
   "cell_type": "code",
   "execution_count": 56,
   "id": "20dd6451-f299-4f8a-98cc-6403d001bf60",
   "metadata": {},
   "outputs": [
    {
     "name": "stderr",
     "output_type": "stream",
     "text": [
      "/var/folders/7y/95y2flc95xd_kqlcm2mtqjp00000gn/T/ipykernel_20291/2968455498.py:1: SettingWithCopyWarning: \n",
      "A value is trying to be set on a copy of a slice from a DataFrame.\n",
      "Try using .loc[row_indexer,col_indexer] = value instead\n",
      "\n",
      "See the caveats in the documentation: https://pandas.pydata.org/pandas-docs/stable/user_guide/indexing.html#returning-a-view-versus-a-copy\n",
      "  netflix1['imdbSQRT'] = np.sqrt(netflix1['imdb_score'])\n"
     ]
    }
   ],
   "source": [
    "netflix1['imdbSQRT'] = np.sqrt(netflix1['imdb_score'])"
   ]
  },
  {
   "cell_type": "code",
   "execution_count": 57,
   "id": "7fdd5638-8fe5-4ed3-abb0-c2f4b4dee9c2",
   "metadata": {},
   "outputs": [
    {
     "data": {
      "text/html": [
       "<div>\n",
       "<style scoped>\n",
       "    .dataframe tbody tr th:only-of-type {\n",
       "        vertical-align: middle;\n",
       "    }\n",
       "\n",
       "    .dataframe tbody tr th {\n",
       "        vertical-align: top;\n",
       "    }\n",
       "\n",
       "    .dataframe thead th {\n",
       "        text-align: right;\n",
       "    }\n",
       "</style>\n",
       "<table border=\"1\" class=\"dataframe\">\n",
       "  <thead>\n",
       "    <tr style=\"text-align: right;\">\n",
       "      <th></th>\n",
       "      <th>imdb_score</th>\n",
       "      <th>rating</th>\n",
       "      <th>ratingR</th>\n",
       "      <th>imdbSQRT</th>\n",
       "    </tr>\n",
       "  </thead>\n",
       "  <tbody>\n",
       "    <tr>\n",
       "      <th>0</th>\n",
       "      <td>4.3</td>\n",
       "      <td>TV-14</td>\n",
       "      <td>1</td>\n",
       "      <td>2.073644</td>\n",
       "    </tr>\n",
       "    <tr>\n",
       "      <th>1</th>\n",
       "      <td>6.7</td>\n",
       "      <td>TV-14</td>\n",
       "      <td>1</td>\n",
       "      <td>2.588436</td>\n",
       "    </tr>\n",
       "    <tr>\n",
       "      <th>2</th>\n",
       "      <td>7.5</td>\n",
       "      <td>TV-MA</td>\n",
       "      <td>0</td>\n",
       "      <td>2.738613</td>\n",
       "    </tr>\n",
       "    <tr>\n",
       "      <th>3</th>\n",
       "      <td>4.9</td>\n",
       "      <td>TV-PG</td>\n",
       "      <td>2</td>\n",
       "      <td>2.213594</td>\n",
       "    </tr>\n",
       "    <tr>\n",
       "      <th>4</th>\n",
       "      <td>7.2</td>\n",
       "      <td>TV-14</td>\n",
       "      <td>1</td>\n",
       "      <td>2.683282</td>\n",
       "    </tr>\n",
       "  </tbody>\n",
       "</table>\n",
       "</div>"
      ],
      "text/plain": [
       "   imdb_score rating  ratingR  imdbSQRT\n",
       "0         4.3  TV-14        1  2.073644\n",
       "1         6.7  TV-14        1  2.588436\n",
       "2         7.5  TV-MA        0  2.738613\n",
       "3         4.9  TV-PG        2  2.213594\n",
       "4         7.2  TV-14        1  2.683282"
      ]
     },
     "execution_count": 57,
     "metadata": {},
     "output_type": "execute_result"
    }
   ],
   "source": [
    "netflix1.head()"
   ]
  },
  {
   "cell_type": "code",
   "execution_count": 58,
   "id": "2cd2cf86-1198-4d62-a009-78bb4aedb8ab",
   "metadata": {},
   "outputs": [
    {
     "name": "stderr",
     "output_type": "stream",
     "text": [
      "/var/folders/7y/95y2flc95xd_kqlcm2mtqjp00000gn/T/ipykernel_20291/2733054470.py:1: UserWarning: \n",
      "\n",
      "`distplot` is a deprecated function and will be removed in seaborn v0.14.0.\n",
      "\n",
      "Please adapt your code to use either `displot` (a figure-level function with\n",
      "similar flexibility) or `histplot` (an axes-level function for histograms).\n",
      "\n",
      "For a guide to updating your code to use the new functions, please see\n",
      "https://gist.github.com/mwaskom/de44147ed2974457ad6372750bbe5751\n",
      "\n",
      "  sns.distplot(netflix1['imdbSQRT'])\n"
     ]
    },
    {
     "data": {
      "text/plain": [
       "<AxesSubplot:xlabel='imdbSQRT', ylabel='Density'>"
      ]
     },
     "execution_count": 58,
     "metadata": {},
     "output_type": "execute_result"
    },
    {
     "data": {
      "image/png": "[encoded data removed]",
      "text/plain": [
       "<Figure size 432x288 with 1 Axes>"
      ]
     },
     "metadata": {
      "needs_background": "light"
     },
     "output_type": "display_data"
    }
   ],
   "source": [
    "sns.distplot(netflix1['imdbSQRT'])"
   ]
  },
  {
   "cell_type": "code",
   "execution_count": 59,
   "id": "c6af85fb-58c5-4e86-a2b0-1aed6903bcb8",
   "metadata": {},
   "outputs": [],
   "source": [
    "## Now looks even more normally distributed"
   ]
  },
  {
   "cell_type": "markdown",
   "id": "2aa25770-d706-40aa-b6d5-87b87b354edb",
   "metadata": {},
   "source": [
    "### Homogeneity of Varience"
   ]
  },
  {
   "cell_type": "code",
   "execution_count": 60,
   "id": "9cd00c84-604f-4903-87fb-5f52645c3996",
   "metadata": {},
   "outputs": [],
   "source": [
    "## Perform Bartlett's test due to being normally distributed"
   ]
  },
  {
   "cell_type": "code",
   "execution_count": 61,
   "id": "a7d33b3e-21e7-4a2b-a2d8-bed8420d53cb",
   "metadata": {},
   "outputs": [
    {
     "data": {
      "text/plain": [
       "BartlettResult(statistic=3263.7098133249488, pvalue=0.0)"
      ]
     },
     "execution_count": 61,
     "metadata": {},
     "output_type": "execute_result"
    }
   ],
   "source": [
    "scipy.stats.bartlett(netflix1['imdbSQRT'],netflix1['ratingR'])"
   ]
  },
  {
   "cell_type": "code",
   "execution_count": 62,
   "id": "b925f746-8f77-42ce-ba5a-ff9446dc9788",
   "metadata": {},
   "outputs": [],
   "source": [
    "## Because p value <.05, Test violated the assumption of homogeneity of variance."
   ]
  },
  {
   "cell_type": "code",
   "execution_count": 63,
   "id": "47825502-9915-4ae5-b74c-f3ac9dbed8d1",
   "metadata": {},
   "outputs": [],
   "source": [
    "## Try out Fligner's test"
   ]
  },
  {
   "cell_type": "code",
   "execution_count": 64,
   "id": "a685b2dc-b033-48a8-959a-29ba4329c906",
   "metadata": {},
   "outputs": [
    {
     "data": {
      "text/plain": [
       "FlignerResult(statistic=570.1451129788373, pvalue=5.2209642365450515e-126)"
      ]
     },
     "execution_count": 64,
     "metadata": {},
     "output_type": "execute_result"
    }
   ],
   "source": [
    "scipy.stats.fligner(netflix1['imdbSQRT'], netflix1['ratingR'])"
   ]
  },
  {
   "cell_type": "code",
   "execution_count": 65,
   "id": "2d186ab7-3bac-42cc-b349-31335d8a6cd4",
   "metadata": {},
   "outputs": [],
   "source": [
    "## P value  <.05, So test failed the assumption of homogeneity of variance as well."
   ]
  },
  {
   "cell_type": "code",
   "execution_count": 66,
   "id": "28173891-2d21-4db3-81a9-b960ce58be92",
   "metadata": {},
   "outputs": [],
   "source": [
    "## This violation cannot be corrected in Python, I will look into this test in R"
   ]
  },
  {
   "cell_type": "markdown",
   "id": "2ccd17a9-2d0f-4ddc-abd1-e2e8b714ae6f",
   "metadata": {},
   "source": [
    "## Variables are not closely related, however because both the Bartlett's and the Fligner's test violated the assumption of homogeneity of variance I would want to analyze this a little bit more closely because of the possiblility of a slight closer connection. (Analyze in R for more accuracy)"
   ]
  },
  {
   "cell_type": "markdown",
   "id": "8c33c148-63cf-4fcd-88ba-fc27ea3cf7ee",
   "metadata": {},
   "source": [
    "### Sample Size"
   ]
  },
  {
   "cell_type": "code",
   "execution_count": 67,
   "id": "18eacd65-5ced-4863-8175-c6b5726ac1e1",
   "metadata": {},
   "outputs": [
    {
     "name": "stdout",
     "output_type": "stream",
     "text": [
      "<class 'pandas.core.frame.DataFrame'>\n",
      "RangeIndex: 1140 entries, 0 to 1139\n",
      "Data columns (total 4 columns):\n",
      " #   Column      Non-Null Count  Dtype  \n",
      "---  ------      --------------  -----  \n",
      " 0   imdb_score  1140 non-null   float64\n",
      " 1   rating      1140 non-null   object \n",
      " 2   ratingR     1140 non-null   int64  \n",
      " 3   imdbSQRT    1140 non-null   float64\n",
      "dtypes: float64(2), int64(1), object(1)\n",
      "memory usage: 35.8+ KB\n"
     ]
    }
   ],
   "source": [
    "netflix1.info()"
   ]
  },
  {
   "cell_type": "code",
   "execution_count": 68,
   "id": "dbe90c76-4ce2-4292-bd5e-e6f115463618",
   "metadata": {},
   "outputs": [],
   "source": [
    "## Over 20 values, So met the requirements for sample size"
   ]
  },
  {
   "cell_type": "markdown",
   "id": "202ce1b4-d017-4158-bbe2-ca97b2091fc9",
   "metadata": {},
   "source": [
    "### Independence "
   ]
  },
  {
   "cell_type": "code",
   "execution_count": 69,
   "id": "97b6c14e-ab3f-4cde-9ca3-97aea2c811be",
   "metadata": {},
   "outputs": [],
   "source": [
    "## No statistical test for independence"
   ]
  },
  {
   "cell_type": "markdown",
   "id": "e9373ae6-accd-4d6e-b852-16ee80d05092",
   "metadata": {},
   "source": [
    "## Running the Analysis"
   ]
  },
  {
   "cell_type": "code",
   "execution_count": 70,
   "id": "5d77e584-37ff-4ed8-9071-2093e1a38977",
   "metadata": {},
   "outputs": [
    {
     "data": {
      "text/plain": [
       "TV-MA       550\n",
       "TV-14       285\n",
       "TV-PG        98\n",
       "R            82\n",
       "NR           38\n",
       "PG-13        36\n",
       "PG           20\n",
       "TV-G         11\n",
       "TV-Y7         7\n",
       "TV-Y          4\n",
       "UR            4\n",
       "TV-Y7-FV      3\n",
       "G             2\n",
       "Name: rating, dtype: int64"
      ]
     },
     "execution_count": 70,
     "metadata": {},
     "output_type": "execute_result"
    }
   ],
   "source": [
    "netflix1.rating.value_counts()"
   ]
  },
  {
   "cell_type": "code",
   "execution_count": 71,
   "id": "dcd0c5bb-533b-4937-bb10-9907aff84214",
   "metadata": {},
   "outputs": [
    {
     "data": {
      "text/plain": [
       "array([2.07364414, 2.58843582, 2.73861279, 2.21359436, 2.68328157,\n",
       "       2.62678511, 2.79284801, 2.77488739, 2.19089023, 2.34520788,\n",
       "       2.56904652, 2.88097206, 2.64575131, 2.82842712, 2.54950976,\n",
       "       1.76068169, 2.66458252, 2.30217289, 2.42899156, 2.84604989,\n",
       "       2.40831892, 2.14476106, 2.7202941 , 1.84390889, 2.48997992,\n",
       "       1.94935887, 2.46981781, 2.50998008, 2.38746728, 2.70185122,\n",
       "       2.12132034, 2.36643191, 2.52982213, 2.28035085, 2.32379001,\n",
       "       2.0976177 , 2.16794834, 2.86356421, 2.81069386, 2.60768096,\n",
       "       2.23606798, 2.25831796, 2.89827535, 1.81659021, 1.61245155,\n",
       "       2.75680975, 1.97484177, 2.44948974, 1.37840488, 2.04939015,\n",
       "       2.        , 1.92353841, 2.93257566, 2.91547595, 1.8973666 ,\n",
       "       2.02484567, 1.30384048, 1.70293864, 1.51657509, 2.94957624,\n",
       "       1.41421356, 1.78885438, 1.67332005])"
      ]
     },
     "execution_count": 71,
     "metadata": {},
     "output_type": "execute_result"
    }
   ],
   "source": [
    "netflix1.imdbSQRT.unique()"
   ]
  },
  {
   "cell_type": "code",
   "execution_count": 72,
   "id": "03ab85fd-dabd-4e75-817c-3f8727f7fac3",
   "metadata": {},
   "outputs": [
    {
     "data": {
      "text/plain": [
       "array([ 1,  0,  2,  3,  9,  5,  6,  7, 10,  8,  4, 12, 11])"
      ]
     },
     "execution_count": 72,
     "metadata": {},
     "output_type": "execute_result"
    }
   ],
   "source": [
    "netflix1.ratingR.unique()"
   ]
  },
  {
   "cell_type": "code",
   "execution_count": 73,
   "id": "d670edb0-b51b-437c-b7c5-60a567a31eeb",
   "metadata": {},
   "outputs": [
    {
     "data": {
      "text/plain": [
       "F_onewayResult(statistic=1.9450021563139994, pvalue=0.026044429519468917)"
      ]
     },
     "execution_count": 73,
     "metadata": {},
     "output_type": "execute_result"
    }
   ],
   "source": [
    "stats.f_oneway(netflix1['imdb_score'][netflix1['rating']=='TV-MA'],\n",
    "                       netflix1['imdb_score'][netflix1['rating']=='TV-14'],\n",
    "                       netflix1['imdb_score'][netflix1['rating']=='TV-PG'],\n",
    "                       netflix1['imdb_score'][netflix1['rating']=='R'],\n",
    "                       netflix1['imdb_score'][netflix1['rating']=='NR'],\n",
    "                       netflix1['imdb_score'][netflix1['rating']=='PG-13'],\n",
    "                       netflix1['imdb_score'][netflix1['rating']=='PG'],\n",
    "                       netflix1['imdb_score'][netflix1['rating']=='TV-G'],\n",
    "                       netflix1['imdb_score'][netflix1['rating']=='TV-Y7'],\n",
    "                       netflix1['imdb_score'][netflix1['rating']=='TV-Y'],\n",
    "                       netflix1['imdb_score'][netflix1['rating']=='UR'],\n",
    "                       netflix1['imdb_score'][netflix1['rating']=='TV-Y7-FV'],\n",
    "                       netflix1['imdb_score'][netflix1['rating']=='G'])"
   ]
  },
  {
   "cell_type": "code",
   "execution_count": 74,
   "id": "b152e403-9d18-4e49-91f0-a38140f656f9",
   "metadata": {},
   "outputs": [],
   "source": [
    "## Since the p value is less than .05, there is a significant difference in rating and imdb scores"
   ]
  },
  {
   "cell_type": "markdown",
   "id": "2b472fea-6042-460d-a156-ad1a88a13b61",
   "metadata": {},
   "source": [
    "## Computing Post Hoc with turkey"
   ]
  },
  {
   "cell_type": "code",
   "execution_count": 75,
   "id": "96a70afb-def1-48da-8d44-138de6405bfe",
   "metadata": {},
   "outputs": [
    {
     "name": "stdout",
     "output_type": "stream",
     "text": [
      "  Multiple Comparison of Means - Tukey HSD, FWER=0.05  \n",
      "=======================================================\n",
      " group1   group2  meandiff p-adj   lower  upper  reject\n",
      "-------------------------------------------------------\n",
      "       G       NR   0.3515 0.6621 -0.2034 0.9064  False\n",
      "       G       PG   0.1497 0.9997 -0.4176 0.7169  False\n",
      "       G    PG-13   0.2984 0.8583 -0.2573  0.854  False\n",
      "       G        R   0.2557  0.944 -0.2917 0.8031  False\n",
      "       G    TV-14   0.2366 0.9667 -0.3062 0.7793  False\n",
      "       G     TV-G   0.2082 0.9942 -0.3797 0.7962  False\n",
      "       G    TV-MA   0.2709   0.91 -0.2709 0.8127  False\n",
      "       G    TV-PG   0.2922 0.8617 -0.2542 0.8385  False\n",
      "       G     TV-Y    0.212 0.9978 -0.4504 0.8744  False\n",
      "       G    TV-Y7   0.2377 0.9872 -0.3756 0.8509  False\n",
      "       G TV-Y7-FV   0.0203    1.0 -0.6779 0.7186  False\n",
      "       G       UR   0.2864 0.9687  -0.376 0.9488  False\n",
      "      NR       PG  -0.2018 0.0779 -0.4131 0.0095  False\n",
      "      NR    PG-13  -0.0531 0.9989  -0.231 0.1248  False\n",
      "      NR        R  -0.0958  0.651 -0.2459 0.0543  False\n",
      "      NR    TV-14  -0.1149 0.1652  -0.247 0.0172  False\n",
      "      NR     TV-G  -0.1433 0.8416 -0.4051 0.1186  False\n",
      "      NR    TV-MA  -0.0806 0.6749 -0.2089 0.0477  False\n",
      "      NR    TV-PG  -0.0593 0.9812 -0.2055 0.0869  False\n",
      "      NR     TV-Y  -0.1394 0.9952 -0.5415 0.2626  False\n",
      "      NR    TV-Y7  -0.1138  0.993 -0.4284 0.2008  False\n",
      "      NR TV-Y7-FV  -0.3311 0.4471 -0.7898 0.1276  False\n",
      "      NR       UR  -0.0651    1.0 -0.4671  0.337  False\n",
      "      PG    PG-13   0.1487  0.507 -0.0646  0.362  False\n",
      "      PG        R    0.106 0.8261 -0.0847 0.2968  False\n",
      "      PG    TV-14   0.0869 0.9202   -0.09 0.2638  False\n",
      "      PG     TV-G   0.0586    1.0 -0.2286 0.3457  False\n",
      "      PG    TV-MA   0.1213 0.5086 -0.0529 0.2954  False\n",
      "      PG    TV-PG   0.1425 0.3615 -0.0452 0.3302  False\n",
      "      PG     TV-Y   0.0624    1.0 -0.3566 0.4813  False\n",
      "      PG    TV-Y7    0.088 0.9997 -0.2479 0.4239  False\n",
      "      PG TV-Y7-FV  -0.1293 0.9995 -0.6029 0.3442  False\n",
      "      PG       UR   0.1367 0.9973 -0.2822 0.5557  False\n",
      "   PG-13        R  -0.0427 0.9994 -0.1956 0.1103  False\n",
      "   PG-13    TV-14  -0.0618 0.9525 -0.1971 0.0735  False\n",
      "   PG-13     TV-G  -0.0901 0.9958 -0.3536 0.1734  False\n",
      "   PG-13    TV-MA  -0.0274    1.0  -0.159 0.1041  False\n",
      "   PG-13    TV-PG  -0.0062    1.0 -0.1552 0.1429  False\n",
      "   PG-13     TV-Y  -0.0863    1.0 -0.4894 0.3168  False\n",
      "   PG-13    TV-Y7  -0.0607    1.0 -0.3766 0.2553  False\n",
      "   PG-13 TV-Y7-FV   -0.278 0.7276 -0.7376 0.1816  False\n",
      "   PG-13       UR   -0.012    1.0 -0.4151 0.3912  False\n",
      "       R    TV-14  -0.0191    1.0  -0.115 0.0767  False\n",
      "       R     TV-G  -0.0475    1.0 -0.2931 0.1981  False\n",
      "       R    TV-MA   0.0152    1.0 -0.0753 0.1058  False\n",
      "       R    TV-PG   0.0365 0.9979  -0.078 0.1509  False\n",
      "       R     TV-Y  -0.0437    1.0 -0.4353  0.348  False\n",
      "       R    TV-Y7   -0.018    1.0 -0.3192 0.2832  False\n",
      "       R TV-Y7-FV  -0.2354 0.8788  -0.685 0.2143  False\n",
      "       R       UR   0.0307    1.0  -0.361 0.4223  False\n",
      "   TV-14     TV-G  -0.0283    1.0 -0.2634 0.2067  False\n",
      "   TV-14    TV-MA   0.0344 0.7041 -0.0215 0.0902  False\n",
      "   TV-14    TV-PG   0.0556 0.6915  -0.034 0.1452  False\n",
      "   TV-14     TV-Y  -0.0245    1.0 -0.4096 0.3606  False\n",
      "   TV-14    TV-Y7   0.0011    1.0 -0.2915 0.2937  False\n",
      "   TV-14 TV-Y7-FV  -0.2162 0.9247 -0.6601 0.2277  False\n",
      "   TV-14       UR   0.0498    1.0 -0.3353 0.4349  False\n",
      "    TV-G    TV-MA   0.0627 0.9996 -0.1702 0.2956  False\n",
      "    TV-G    TV-PG   0.0839 0.9954 -0.1593 0.3272  False\n",
      "    TV-G     TV-Y   0.0038    1.0 -0.4428 0.4504  False\n",
      "    TV-G    TV-Y7   0.0295    1.0 -0.3404 0.3993  False\n",
      "    TV-G TV-Y7-FV  -0.1879 0.9899 -0.6861 0.3103  False\n",
      "    TV-G       UR   0.0782    1.0 -0.3684 0.5248  False\n",
      "   TV-MA    TV-PG   0.0213 0.9998 -0.0626 0.1051  False\n",
      "   TV-MA     TV-Y  -0.0589    1.0 -0.4427 0.3249  False\n",
      "   TV-MA    TV-Y7  -0.0332    1.0 -0.3242 0.2577  False\n",
      "   TV-MA TV-Y7-FV  -0.2506 0.8078 -0.6934 0.1922  False\n",
      "   TV-MA       UR   0.0155    1.0 -0.3683 0.3993  False\n",
      "   TV-PG     TV-Y  -0.0801    1.0 -0.4703   0.31  False\n",
      "   TV-PG    TV-Y7  -0.0545    1.0 -0.3537 0.2447  False\n",
      "   TV-PG TV-Y7-FV  -0.2718 0.7243 -0.7201 0.1765  False\n",
      "   TV-PG       UR  -0.0058    1.0 -0.3959 0.3844  False\n",
      "    TV-Y    TV-Y7   0.0256    1.0 -0.4538 0.5051  False\n",
      "    TV-Y TV-Y7-FV  -0.1917 0.9972 -0.7759 0.3925  False\n",
      "    TV-Y       UR   0.0744    1.0 -0.4665 0.6152  False\n",
      "   TV-Y7 TV-Y7-FV  -0.2173 0.9788 -0.7451 0.3105  False\n",
      "   TV-Y7       UR   0.0487    1.0 -0.4307 0.5281  False\n",
      "TV-Y7-FV       UR    0.266 0.9535 -0.3181 0.8502  False\n",
      "-------------------------------------------------------\n"
     ]
    }
   ],
   "source": [
    "postHoc = MultiComparison(netflix1['imdbSQRT'], netflix1['rating'])\n",
    "postHocResults = postHoc.tukeyhsd()\n",
    "print(postHocResults)"
   ]
  },
  {
   "cell_type": "markdown",
   "id": "ba8ef398-a11a-4e73-937c-0b2005637ed5",
   "metadata": {},
   "source": [
    "### These false values in the rejects column tell me that we would accept the null hypothesis because there is not a significant difference between imdb scores and ratings"
   ]
  },
  {
   "cell_type": "markdown",
   "id": "4de9eb9a-1f28-4359-b1ac-2c431bb2bd56",
   "metadata": {},
   "source": [
    "## Determine Means and Draw Conclusions"
   ]
  },
  {
   "cell_type": "code",
   "execution_count": 76,
   "id": "66b8096f-ea71-420e-9c8a-8ec22c16bce7",
   "metadata": {},
   "outputs": [
    {
     "data": {
      "text/html": [
       "<div>\n",
       "<style scoped>\n",
       "    .dataframe tbody tr th:only-of-type {\n",
       "        vertical-align: middle;\n",
       "    }\n",
       "\n",
       "    .dataframe tbody tr th {\n",
       "        vertical-align: top;\n",
       "    }\n",
       "\n",
       "    .dataframe thead th {\n",
       "        text-align: right;\n",
       "    }\n",
       "</style>\n",
       "<table border=\"1\" class=\"dataframe\">\n",
       "  <thead>\n",
       "    <tr style=\"text-align: right;\">\n",
       "      <th></th>\n",
       "      <th>imdb_score</th>\n",
       "      <th>ratingR</th>\n",
       "      <th>imdbSQRT</th>\n",
       "    </tr>\n",
       "    <tr>\n",
       "      <th>rating</th>\n",
       "      <th></th>\n",
       "      <th></th>\n",
       "      <th></th>\n",
       "    </tr>\n",
       "  </thead>\n",
       "  <tbody>\n",
       "    <tr>\n",
       "      <th>G</th>\n",
       "      <td>5.050000</td>\n",
       "      <td>12.0</td>\n",
       "      <td>2.229669</td>\n",
       "    </tr>\n",
       "    <tr>\n",
       "      <th>NR</th>\n",
       "      <td>6.694737</td>\n",
       "      <td>4.0</td>\n",
       "      <td>2.581146</td>\n",
       "    </tr>\n",
       "    <tr>\n",
       "      <th>PG</th>\n",
       "      <td>5.775000</td>\n",
       "      <td>6.0</td>\n",
       "      <td>2.379332</td>\n",
       "    </tr>\n",
       "    <tr>\n",
       "      <th>PG-13</th>\n",
       "      <td>6.438889</td>\n",
       "      <td>5.0</td>\n",
       "      <td>2.528021</td>\n",
       "    </tr>\n",
       "    <tr>\n",
       "      <th>R</th>\n",
       "      <td>6.243902</td>\n",
       "      <td>3.0</td>\n",
       "      <td>2.485370</td>\n",
       "    </tr>\n",
       "    <tr>\n",
       "      <th>TV-14</th>\n",
       "      <td>6.141754</td>\n",
       "      <td>1.0</td>\n",
       "      <td>2.466232</td>\n",
       "    </tr>\n",
       "    <tr>\n",
       "      <th>TV-G</th>\n",
       "      <td>6.009091</td>\n",
       "      <td>7.0</td>\n",
       "      <td>2.437892</td>\n",
       "    </tr>\n",
       "    <tr>\n",
       "      <th>TV-MA</th>\n",
       "      <td>6.299636</td>\n",
       "      <td>0.0</td>\n",
       "      <td>2.500583</td>\n",
       "    </tr>\n",
       "    <tr>\n",
       "      <th>TV-PG</th>\n",
       "      <td>6.409184</td>\n",
       "      <td>2.0</td>\n",
       "      <td>2.521838</td>\n",
       "    </tr>\n",
       "    <tr>\n",
       "      <th>TV-Y</th>\n",
       "      <td>6.000000</td>\n",
       "      <td>9.0</td>\n",
       "      <td>2.441703</td>\n",
       "    </tr>\n",
       "    <tr>\n",
       "      <th>TV-Y7</th>\n",
       "      <td>6.157143</td>\n",
       "      <td>8.0</td>\n",
       "      <td>2.467347</td>\n",
       "    </tr>\n",
       "    <tr>\n",
       "      <th>TV-Y7-FV</th>\n",
       "      <td>5.066667</td>\n",
       "      <td>11.0</td>\n",
       "      <td>2.250019</td>\n",
       "    </tr>\n",
       "    <tr>\n",
       "      <th>UR</th>\n",
       "      <td>6.350000</td>\n",
       "      <td>10.0</td>\n",
       "      <td>2.516058</td>\n",
       "    </tr>\n",
       "  </tbody>\n",
       "</table>\n",
       "</div>"
      ],
      "text/plain": [
       "          imdb_score  ratingR  imdbSQRT\n",
       "rating                                 \n",
       "G           5.050000     12.0  2.229669\n",
       "NR          6.694737      4.0  2.581146\n",
       "PG          5.775000      6.0  2.379332\n",
       "PG-13       6.438889      5.0  2.528021\n",
       "R           6.243902      3.0  2.485370\n",
       "TV-14       6.141754      1.0  2.466232\n",
       "TV-G        6.009091      7.0  2.437892\n",
       "TV-MA       6.299636      0.0  2.500583\n",
       "TV-PG       6.409184      2.0  2.521838\n",
       "TV-Y        6.000000      9.0  2.441703\n",
       "TV-Y7       6.157143      8.0  2.467347\n",
       "TV-Y7-FV    5.066667     11.0  2.250019\n",
       "UR          6.350000     10.0  2.516058"
      ]
     },
     "execution_count": 76,
     "metadata": {},
     "output_type": "execute_result"
    }
   ],
   "source": [
    "netflix1.groupby('rating').mean()"
   ]
  },
  {
   "cell_type": "markdown",
   "id": "cf0808dd-7f44-4cc5-83ac-b6497d5d6b45",
   "metadata": {},
   "source": [
    "### We can confirm here that there is not a significant difference between imdb scores amongst the different ratings"
   ]
  },
  {
   "cell_type": "markdown",
   "id": "17ca4b57-8413-48dc-92b2-ff1c84ac11ac",
   "metadata": {},
   "source": [
    "## Q2 How do ratings for content released in the United states differ from those released in India?"
   ]
  },
  {
   "cell_type": "markdown",
   "id": "02499f8c-145b-4bf2-ae7d-8fcc42336938",
   "metadata": {},
   "source": [
    "## Independent Chi-Square"
   ]
  },
  {
   "cell_type": "markdown",
   "id": "1c719425-520c-4787-bcfd-c2928c15f23a",
   "metadata": {},
   "source": [
    "### Load data"
   ]
  },
  {
   "cell_type": "code",
   "execution_count": 77,
   "id": "e3b16b73-996a-491b-b9a1-44e8ba13b330",
   "metadata": {},
   "outputs": [
    {
     "data": {
      "text/html": [
       "<div>\n",
       "<style scoped>\n",
       "    .dataframe tbody tr th:only-of-type {\n",
       "        vertical-align: middle;\n",
       "    }\n",
       "\n",
       "    .dataframe tbody tr th {\n",
       "        vertical-align: top;\n",
       "    }\n",
       "\n",
       "    .dataframe thead th {\n",
       "        text-align: right;\n",
       "    }\n",
       "</style>\n",
       "<table border=\"1\" class=\"dataframe\">\n",
       "  <thead>\n",
       "    <tr style=\"text-align: right;\">\n",
       "      <th></th>\n",
       "      <th>title</th>\n",
       "      <th>director</th>\n",
       "      <th>cast</th>\n",
       "      <th>country</th>\n",
       "      <th>release_year</th>\n",
       "      <th>rating</th>\n",
       "      <th>duration</th>\n",
       "      <th>genre</th>\n",
       "      <th>type</th>\n",
       "      <th>imdb_score</th>\n",
       "    </tr>\n",
       "  </thead>\n",
       "  <tbody>\n",
       "    <tr>\n",
       "      <th>0</th>\n",
       "      <td>The Zoya Factor</td>\n",
       "      <td>Abhishek Sharma</td>\n",
       "      <td>Sonam Kapoor, Dulquer Salmaan, Sanjay Kapoor, ...</td>\n",
       "      <td>India</td>\n",
       "      <td>2019</td>\n",
       "      <td>TV-14</td>\n",
       "      <td>135 min</td>\n",
       "      <td>Comedies, Dramas, International Movies</td>\n",
       "      <td>Movie</td>\n",
       "      <td>4.3</td>\n",
       "    </tr>\n",
       "    <tr>\n",
       "      <th>1</th>\n",
       "      <td>Atlantics</td>\n",
       "      <td>Mati Diop</td>\n",
       "      <td>Mama Sane, Amadou Mbow, Ibrahima Traore, Nicol...</td>\n",
       "      <td>France, Senegal, Belgium</td>\n",
       "      <td>2019</td>\n",
       "      <td>TV-14</td>\n",
       "      <td>106 min</td>\n",
       "      <td>Dramas, Independent Movies, International Movies</td>\n",
       "      <td>Movie</td>\n",
       "      <td>6.7</td>\n",
       "    </tr>\n",
       "    <tr>\n",
       "      <th>2</th>\n",
       "      <td>I Lost My Body</td>\n",
       "      <td>Jérémy Clapin</td>\n",
       "      <td>Hakim Faris, Victoire Du Bois, Patrick d'Assum...</td>\n",
       "      <td>France</td>\n",
       "      <td>2019</td>\n",
       "      <td>TV-MA</td>\n",
       "      <td>81 min</td>\n",
       "      <td>Dramas, Independent Movies, International Movies</td>\n",
       "      <td>Movie</td>\n",
       "      <td>7.5</td>\n",
       "    </tr>\n",
       "    <tr>\n",
       "      <th>3</th>\n",
       "      <td>Holiday Rush</td>\n",
       "      <td>Leslie Small</td>\n",
       "      <td>Romany Malco, Sonequa Martin-Green, Darlene Lo...</td>\n",
       "      <td>United States</td>\n",
       "      <td>2019</td>\n",
       "      <td>TV-PG</td>\n",
       "      <td>94 min</td>\n",
       "      <td>Children &amp; Family Movies, Dramas</td>\n",
       "      <td>Movie</td>\n",
       "      <td>4.9</td>\n",
       "    </tr>\n",
       "    <tr>\n",
       "      <th>4</th>\n",
       "      <td>Evvarikee Cheppoddu</td>\n",
       "      <td>Basava Shankar Eeday</td>\n",
       "      <td>Rakesh Varre, Gargeyi, Vamsi raj Nekkanti, D P...</td>\n",
       "      <td>India</td>\n",
       "      <td>2019</td>\n",
       "      <td>TV-14</td>\n",
       "      <td>134 min</td>\n",
       "      <td>Comedies, International Movies, Romantic Movies</td>\n",
       "      <td>Movie</td>\n",
       "      <td>7.2</td>\n",
       "    </tr>\n",
       "  </tbody>\n",
       "</table>\n",
       "</div>"
      ],
      "text/plain": [
       "                 title              director  \\\n",
       "0      The Zoya Factor       Abhishek Sharma   \n",
       "1            Atlantics             Mati Diop   \n",
       "2       I Lost My Body         Jérémy Clapin   \n",
       "3         Holiday Rush          Leslie Small   \n",
       "4  Evvarikee Cheppoddu  Basava Shankar Eeday   \n",
       "\n",
       "                                                cast  \\\n",
       "0  Sonam Kapoor, Dulquer Salmaan, Sanjay Kapoor, ...   \n",
       "1  Mama Sane, Amadou Mbow, Ibrahima Traore, Nicol...   \n",
       "2  Hakim Faris, Victoire Du Bois, Patrick d'Assum...   \n",
       "3  Romany Malco, Sonequa Martin-Green, Darlene Lo...   \n",
       "4  Rakesh Varre, Gargeyi, Vamsi raj Nekkanti, D P...   \n",
       "\n",
       "                    country  release_year rating duration  \\\n",
       "0                     India          2019  TV-14  135 min   \n",
       "1  France, Senegal, Belgium          2019  TV-14  106 min   \n",
       "2                    France          2019  TV-MA   81 min   \n",
       "3             United States          2019  TV-PG   94 min   \n",
       "4                     India          2019  TV-14  134 min   \n",
       "\n",
       "                                              genre   type  imdb_score  \n",
       "0            Comedies, Dramas, International Movies  Movie         4.3  \n",
       "1  Dramas, Independent Movies, International Movies  Movie         6.7  \n",
       "2  Dramas, Independent Movies, International Movies  Movie         7.5  \n",
       "3                  Children & Family Movies, Dramas  Movie         4.9  \n",
       "4   Comedies, International Movies, Romantic Movies  Movie         7.2  "
      ]
     },
     "execution_count": 77,
     "metadata": {},
     "output_type": "execute_result"
    }
   ],
   "source": [
    "netflix.head()"
   ]
  },
  {
   "cell_type": "markdown",
   "id": "70b98f20-f264-445b-95c1-16d08e7361c9",
   "metadata": {},
   "source": [
    "## Test Assumptions and Run the Analysis"
   ]
  },
  {
   "cell_type": "markdown",
   "id": "4786e225-03a6-4cff-a989-25d09f7224fa",
   "metadata": {},
   "source": [
    "### Create a Contingency Table for United States"
   ]
  },
  {
   "cell_type": "code",
   "execution_count": 78,
   "id": "e1688b9e-80e1-461e-a939-1a6fa3b23611",
   "metadata": {},
   "outputs": [],
   "source": [
    "netflix_crosstab = pd.crosstab(netflix['rating'],[netflix.country.str.contains('United States')])"
   ]
  },
  {
   "cell_type": "code",
   "execution_count": 79,
   "id": "f75ecfff-ae3b-4b70-adf1-94208011a021",
   "metadata": {},
   "outputs": [
    {
     "data": {
      "text/html": [
       "<div>\n",
       "<style scoped>\n",
       "    .dataframe tbody tr th:only-of-type {\n",
       "        vertical-align: middle;\n",
       "    }\n",
       "\n",
       "    .dataframe tbody tr th {\n",
       "        vertical-align: top;\n",
       "    }\n",
       "\n",
       "    .dataframe thead th {\n",
       "        text-align: right;\n",
       "    }\n",
       "</style>\n",
       "<table border=\"1\" class=\"dataframe\">\n",
       "  <thead>\n",
       "    <tr style=\"text-align: right;\">\n",
       "      <th>country</th>\n",
       "      <th>False</th>\n",
       "      <th>True</th>\n",
       "    </tr>\n",
       "    <tr>\n",
       "      <th>rating</th>\n",
       "      <th></th>\n",
       "      <th></th>\n",
       "    </tr>\n",
       "  </thead>\n",
       "  <tbody>\n",
       "    <tr>\n",
       "      <th>G</th>\n",
       "      <td>0</td>\n",
       "      <td>2</td>\n",
       "    </tr>\n",
       "    <tr>\n",
       "      <th>NR</th>\n",
       "      <td>14</td>\n",
       "      <td>24</td>\n",
       "    </tr>\n",
       "    <tr>\n",
       "      <th>PG</th>\n",
       "      <td>9</td>\n",
       "      <td>11</td>\n",
       "    </tr>\n",
       "    <tr>\n",
       "      <th>PG-13</th>\n",
       "      <td>10</td>\n",
       "      <td>26</td>\n",
       "    </tr>\n",
       "    <tr>\n",
       "      <th>R</th>\n",
       "      <td>12</td>\n",
       "      <td>70</td>\n",
       "    </tr>\n",
       "    <tr>\n",
       "      <th>TV-14</th>\n",
       "      <td>225</td>\n",
       "      <td>60</td>\n",
       "    </tr>\n",
       "    <tr>\n",
       "      <th>TV-G</th>\n",
       "      <td>2</td>\n",
       "      <td>9</td>\n",
       "    </tr>\n",
       "    <tr>\n",
       "      <th>TV-MA</th>\n",
       "      <td>306</td>\n",
       "      <td>244</td>\n",
       "    </tr>\n",
       "    <tr>\n",
       "      <th>TV-PG</th>\n",
       "      <td>59</td>\n",
       "      <td>39</td>\n",
       "    </tr>\n",
       "    <tr>\n",
       "      <th>TV-Y</th>\n",
       "      <td>1</td>\n",
       "      <td>3</td>\n",
       "    </tr>\n",
       "    <tr>\n",
       "      <th>TV-Y7</th>\n",
       "      <td>4</td>\n",
       "      <td>3</td>\n",
       "    </tr>\n",
       "    <tr>\n",
       "      <th>TV-Y7-FV</th>\n",
       "      <td>3</td>\n",
       "      <td>0</td>\n",
       "    </tr>\n",
       "    <tr>\n",
       "      <th>UR</th>\n",
       "      <td>2</td>\n",
       "      <td>2</td>\n",
       "    </tr>\n",
       "  </tbody>\n",
       "</table>\n",
       "</div>"
      ],
      "text/plain": [
       "country   False  True\n",
       "rating               \n",
       "G             0     2\n",
       "NR           14    24\n",
       "PG            9    11\n",
       "PG-13        10    26\n",
       "R            12    70\n",
       "TV-14       225    60\n",
       "TV-G          2     9\n",
       "TV-MA       306   244\n",
       "TV-PG        59    39\n",
       "TV-Y          1     3\n",
       "TV-Y7         4     3\n",
       "TV-Y7-FV      3     0\n",
       "UR            2     2"
      ]
     },
     "execution_count": 79,
     "metadata": {},
     "output_type": "execute_result"
    }
   ],
   "source": [
    "netflix_crosstab"
   ]
  },
  {
   "cell_type": "markdown",
   "id": "1cac0b66-1320-48cb-b29e-34bcbf7e0244",
   "metadata": {},
   "source": [
    "### With this crosstab I can already determine a few factors. I can interpret here that out of the total content count of 493 in the USA, Nearly half of that content is rated TV-MA and none are TV-Y7-FV "
   ]
  },
  {
   "cell_type": "markdown",
   "id": "21d9b2e1-fd4b-4b56-ad17-a866cecd8453",
   "metadata": {},
   "source": [
    "### Running the Independent Chi-Square"
   ]
  },
  {
   "cell_type": "code",
   "execution_count": 80,
   "id": "c9fa1a58-9e72-420f-b8e5-923605279603",
   "metadata": {},
   "outputs": [
    {
     "data": {
      "text/plain": [
       "(150.09708901274172,\n",
       " 5.418450675820066e-26,\n",
       " 12,\n",
       " array([[  1.13508772,   0.86491228],\n",
       "        [ 21.56666667,  16.43333333],\n",
       "        [ 11.35087719,   8.64912281],\n",
       "        [ 20.43157895,  15.56842105],\n",
       "        [ 46.53859649,  35.46140351],\n",
       "        [161.75      , 123.25      ],\n",
       "        [  6.24298246,   4.75701754],\n",
       "        [312.14912281, 237.85087719],\n",
       "        [ 55.61929825,  42.38070175],\n",
       "        [  2.27017544,   1.72982456],\n",
       "        [  3.97280702,   3.02719298],\n",
       "        [  1.70263158,   1.29736842],\n",
       "        [  2.27017544,   1.72982456]]))"
      ]
     },
     "execution_count": 80,
     "metadata": {},
     "output_type": "execute_result"
    }
   ],
   "source": [
    "stats.chi2_contingency(netflix_crosstab)"
   ]
  },
  {
   "cell_type": "markdown",
   "id": "ea5b9478-bede-4027-bf0a-0b43637435df",
   "metadata": {},
   "source": [
    "### With the P value here we can see that there is a significant relationship between ratings released in USA"
   ]
  },
  {
   "cell_type": "markdown",
   "id": "d24a09c0-f68f-4c1b-bf6f-79b2986cf432",
   "metadata": {},
   "source": [
    "### Create a Contingency Table for India"
   ]
  },
  {
   "cell_type": "code",
   "execution_count": 81,
   "id": "f764f537-61e2-4d5b-b71a-aba22c146de2",
   "metadata": {},
   "outputs": [],
   "source": [
    "netflix_crosstab1 = pd.crosstab(netflix['rating'],[netflix.country.str.contains('India')])"
   ]
  },
  {
   "cell_type": "code",
   "execution_count": 82,
   "id": "86463109-aa36-46ee-a947-d08e0967220e",
   "metadata": {},
   "outputs": [
    {
     "data": {
      "text/html": [
       "<div>\n",
       "<style scoped>\n",
       "    .dataframe tbody tr th:only-of-type {\n",
       "        vertical-align: middle;\n",
       "    }\n",
       "\n",
       "    .dataframe tbody tr th {\n",
       "        vertical-align: top;\n",
       "    }\n",
       "\n",
       "    .dataframe thead th {\n",
       "        text-align: right;\n",
       "    }\n",
       "</style>\n",
       "<table border=\"1\" class=\"dataframe\">\n",
       "  <thead>\n",
       "    <tr style=\"text-align: right;\">\n",
       "      <th>country</th>\n",
       "      <th>False</th>\n",
       "      <th>True</th>\n",
       "    </tr>\n",
       "    <tr>\n",
       "      <th>rating</th>\n",
       "      <th></th>\n",
       "      <th></th>\n",
       "    </tr>\n",
       "  </thead>\n",
       "  <tbody>\n",
       "    <tr>\n",
       "      <th>G</th>\n",
       "      <td>2</td>\n",
       "      <td>0</td>\n",
       "    </tr>\n",
       "    <tr>\n",
       "      <th>NR</th>\n",
       "      <td>35</td>\n",
       "      <td>3</td>\n",
       "    </tr>\n",
       "    <tr>\n",
       "      <th>PG</th>\n",
       "      <td>19</td>\n",
       "      <td>1</td>\n",
       "    </tr>\n",
       "    <tr>\n",
       "      <th>PG-13</th>\n",
       "      <td>32</td>\n",
       "      <td>4</td>\n",
       "    </tr>\n",
       "    <tr>\n",
       "      <th>R</th>\n",
       "      <td>81</td>\n",
       "      <td>1</td>\n",
       "    </tr>\n",
       "    <tr>\n",
       "      <th>TV-14</th>\n",
       "      <td>158</td>\n",
       "      <td>127</td>\n",
       "    </tr>\n",
       "    <tr>\n",
       "      <th>TV-G</th>\n",
       "      <td>11</td>\n",
       "      <td>0</td>\n",
       "    </tr>\n",
       "    <tr>\n",
       "      <th>TV-MA</th>\n",
       "      <td>478</td>\n",
       "      <td>72</td>\n",
       "    </tr>\n",
       "    <tr>\n",
       "      <th>TV-PG</th>\n",
       "      <td>61</td>\n",
       "      <td>37</td>\n",
       "    </tr>\n",
       "    <tr>\n",
       "      <th>TV-Y</th>\n",
       "      <td>4</td>\n",
       "      <td>0</td>\n",
       "    </tr>\n",
       "    <tr>\n",
       "      <th>TV-Y7</th>\n",
       "      <td>7</td>\n",
       "      <td>0</td>\n",
       "    </tr>\n",
       "    <tr>\n",
       "      <th>TV-Y7-FV</th>\n",
       "      <td>2</td>\n",
       "      <td>1</td>\n",
       "    </tr>\n",
       "    <tr>\n",
       "      <th>UR</th>\n",
       "      <td>3</td>\n",
       "      <td>1</td>\n",
       "    </tr>\n",
       "  </tbody>\n",
       "</table>\n",
       "</div>"
      ],
      "text/plain": [
       "country   False  True\n",
       "rating               \n",
       "G             2     0\n",
       "NR           35     3\n",
       "PG           19     1\n",
       "PG-13        32     4\n",
       "R            81     1\n",
       "TV-14       158   127\n",
       "TV-G         11     0\n",
       "TV-MA       478    72\n",
       "TV-PG        61    37\n",
       "TV-Y          4     0\n",
       "TV-Y7         7     0\n",
       "TV-Y7-FV      2     1\n",
       "UR            3     1"
      ]
     },
     "execution_count": 82,
     "metadata": {},
     "output_type": "execute_result"
    }
   ],
   "source": [
    "netflix_crosstab1"
   ]
  },
  {
   "cell_type": "markdown",
   "id": "c19a4ded-8b56-404b-81ab-c027433c12d7",
   "metadata": {},
   "source": [
    "### Here I can see that unlike the US, Indias content is mostly rated TV-14 and they do have a title rated TV-Y7-FV"
   ]
  },
  {
   "cell_type": "markdown",
   "id": "e84b03c5-412a-462a-9b6b-b44436aaecaa",
   "metadata": {},
   "source": [
    "### Running the Independent Chi-Square"
   ]
  },
  {
   "cell_type": "code",
   "execution_count": 83,
   "id": "df5ea3d5-0719-4a99-8be1-eea3c0f49294",
   "metadata": {},
   "outputs": [
    {
     "data": {
      "text/plain": [
       "(163.78511152550038,\n",
       " 8.88297759358946e-29,\n",
       " 12,\n",
       " array([[  1.56666667,   0.43333333],\n",
       "        [ 29.76666667,   8.23333333],\n",
       "        [ 15.66666667,   4.33333333],\n",
       "        [ 28.2       ,   7.8       ],\n",
       "        [ 64.23333333,  17.76666667],\n",
       "        [223.25      ,  61.75      ],\n",
       "        [  8.61666667,   2.38333333],\n",
       "        [430.83333333, 119.16666667],\n",
       "        [ 76.76666667,  21.23333333],\n",
       "        [  3.13333333,   0.86666667],\n",
       "        [  5.48333333,   1.51666667],\n",
       "        [  2.35      ,   0.65      ],\n",
       "        [  3.13333333,   0.86666667]]))"
      ]
     },
     "execution_count": 83,
     "metadata": {},
     "output_type": "execute_result"
    }
   ],
   "source": [
    "stats.chi2_contingency(netflix_crosstab1)"
   ]
  },
  {
   "cell_type": "markdown",
   "id": "a8bc23ea-9c81-40d5-8503-0b884de46b45",
   "metadata": {},
   "source": [
    "### Again we can see here that there is a significance  between ratings and India"
   ]
  },
  {
   "cell_type": "markdown",
   "id": "ec728464-d68f-44be-86bb-e65075a662d7",
   "metadata": {},
   "source": [
    "## All in all I would speculate that depending on the country content is released in certain rated films and shows will be more vastly release over others and some not at all"
   ]
  }
 ],
 "metadata": {
  "kernelspec": {
   "display_name": "Python 3 (ipykernel)",
   "language": "python",
   "name": "python3"
  },
  "language_info": {
   "codemirror_mode": {
    "name": "ipython",
    "version": 3
   },
   "file_extension": ".py",
   "mimetype": "text/x-python",
   "name": "python",
   "nbconvert_exporter": "python",
   "pygments_lexer": "ipython3",
   "version": "3.9.10"
  }
 },
 "nbformat": 4,
 "nbformat_minor": 5
}
